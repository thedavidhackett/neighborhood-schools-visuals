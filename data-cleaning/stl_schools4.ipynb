{
 "cells": [
  {
   "cell_type": "code",
   "execution_count": 2,
   "id": "acece6d8",
   "metadata": {},
   "outputs": [],
   "source": [
    "import numpy as np"
   ]
  },
  {
   "cell_type": "code",
   "execution_count": 3,
   "id": "be2a9685",
   "metadata": {},
   "outputs": [],
   "source": [
    "import pandas as pd"
   ]
  },
  {
   "cell_type": "code",
   "execution_count": 4,
   "id": "ad6e82ea",
   "metadata": {},
   "outputs": [],
   "source": [
    "stl_schools = pd.read_csv(\"stl_schools_with_latlong.csv\")"
   ]
  },
  {
   "cell_type": "code",
   "execution_count": 5,
   "id": "9bc53139",
   "metadata": {},
   "outputs": [
    {
     "data": {
      "text/plain": [
       "(2260, 57)"
      ]
     },
     "execution_count": 5,
     "metadata": {},
     "output_type": "execute_result"
    }
   ],
   "source": [
    "stl_schools.shape"
   ]
  },
  {
   "cell_type": "code",
   "execution_count": 6,
   "id": "b889fbce",
   "metadata": {},
   "outputs": [],
   "source": [
    "stl_charter_schools = stl_schools[stl_schools[\"CHARTER\"] == True]"
   ]
  },
  {
   "cell_type": "code",
   "execution_count": 7,
   "id": "bf50a122",
   "metadata": {},
   "outputs": [
    {
     "data": {
      "text/plain": [
       "(393, 57)"
      ]
     },
     "execution_count": 7,
     "metadata": {},
     "output_type": "execute_result"
    }
   ],
   "source": [
    "stl_charter_schools.shape"
   ]
  },
  {
   "cell_type": "code",
   "execution_count": 8,
   "id": "33744f1a",
   "metadata": {},
   "outputs": [],
   "source": [
    "stl_magnet_schools = stl_schools[stl_schools[\"MAGNET\"] == True]\n",
    "stl_alternative_schools = stl_schools[stl_schools[\"ALTERNATIVE\"] == True]\n",
    "stl_neighborhood_schools = stl_schools[(stl_schools[\"CHARTER\"] == False) & (stl_schools[\"MAGNET\"] == False) & (stl_schools[\"ALTERNATIVE\"] == False)]"
   ]
  },
  {
   "cell_type": "code",
   "execution_count": 11,
   "id": "577e1ab9",
   "metadata": {},
   "outputs": [
    {
     "data": {
      "text/plain": [
       "(1103, 57)"
      ]
     },
     "execution_count": 11,
     "metadata": {},
     "output_type": "execute_result"
    }
   ],
   "source": [
    "# stl_magnet_schools.shape\n",
    "# stl_alternative_schools.shape\n",
    "stl_neighborhood_schools.shape"
   ]
  },
  {
   "cell_type": "code",
   "execution_count": 9,
   "id": "52c42323",
   "metadata": {},
   "outputs": [
    {
     "data": {
      "text/plain": [
       "Index(['Unnamed: 0', 'YEAR', 'COUNTY_DISTRICT_CODE', 'DISTRICT_NAME',\n",
       "       'SCHOOL_CODE', 'SCHOOL_NAME', 'ENROLLMENT_GRADES_K_12',\n",
       "       'JANUARY_MEMBERSHIP', 'LUNCH_COUNT_FREE_REDUCED',\n",
       "       'LUNCH_COUNT_FREE_REDUCTED_PCT', 'ENROLLMENT_ASIAN',\n",
       "       'ENROLLMENT_ASIAN_PCT', 'ENROLLMENT_ASIAN_PACIFIC_ISLANDER',\n",
       "       'ENROLLMENT_ASIAN_PACIFIC_ISLANDER_PCT', 'ENROLLMENT_BLACK',\n",
       "       'ENROLLMENT_BLACK_PCT', 'ENROLLMENT_HISPANIC',\n",
       "       'ENROLLMENT_HISPANIC_PCT', 'ENROLLMENT_INDIAN', 'ENROLLMENT_INDIAN_PCT',\n",
       "       'ENROLLMENT_MULTIRACIAL', 'ENROLLMENT_MULTIRACIAL_PCT',\n",
       "       'ENROLLMENT_PACIFIC_ISLANDER', 'ENROLLMENT_PACIFIC_ISLANDER_PCT',\n",
       "       'ENROLLMENT_WHITE', 'ENROLLMENT_WHITE_PCT', 'ENROLLMENT_ELL_LEP',\n",
       "       'ENROLLMENT_ELL_LEP_PCT', 'ENROLLMENT_GRADE_PK_ELL_LEP',\n",
       "       'ENROLLMENT_GRADE_PK_ELL_LEP_PCT', 'IEP_SCHOOLAGE_CHILDCOUNT',\n",
       "       'IEP_INCIDENCE_RATE', 'LUNCH_COUNT_FREE_REDUCED_PCT', 'SCHADDR1',\n",
       "       'SCHADDR2', 'SCHCITY', 'SCHZIP', 'SCHLPHON', 'SCHLFAX', 'BGRADE',\n",
       "       'EGRADE', 'SCHTTEACH', 'SCHENRR', 'SCHENRNR', 'SCHTENR',\n",
       "       'ELEMENTARY_SCHOOL_FLAG', 'MIDDLE_SCHOOL_FLAG',\n",
       "       'JUNIOR_HIGH_SCHOOL_FLAG', 'HIGH_SCHOOL_FLAG', 'AVTS_FLAG',\n",
       "       'ALTERNATIVE_SCHOOL_FLAG', 'FULL_CODE', 'CHARTER', 'MAGNET',\n",
       "       'ALTERNATIVE', 'lat', 'lng'],\n",
       "      dtype='object')"
      ]
     },
     "execution_count": 9,
     "metadata": {},
     "output_type": "execute_result"
    }
   ],
   "source": [
    "stl_charter_schools.columns"
   ]
  },
  {
   "cell_type": "code",
   "execution_count": 12,
   "id": "7466239d",
   "metadata": {},
   "outputs": [],
   "source": [
    "charter_school_enrollment = pd.pivot_table(stl_charter_schools, values=\"ENROLLMENT_GRADES_K_12\", index=[\"YEAR\"], aggfunc=np.sum)"
   ]
  },
  {
   "cell_type": "code",
   "execution_count": 13,
   "id": "dac301ca",
   "metadata": {},
   "outputs": [
    {
     "data": {
      "text/plain": [
       "(20, 1)"
      ]
     },
     "execution_count": 13,
     "metadata": {},
     "output_type": "execute_result"
    }
   ],
   "source": [
    "charter_school_enrollment.shape"
   ]
  },
  {
   "cell_type": "code",
   "execution_count": 12,
   "id": "350aacc9",
   "metadata": {},
   "outputs": [
    {
     "data": {
      "text/html": [
       "<div>\n",
       "<style scoped>\n",
       "    .dataframe tbody tr th:only-of-type {\n",
       "        vertical-align: middle;\n",
       "    }\n",
       "\n",
       "    .dataframe tbody tr th {\n",
       "        vertical-align: top;\n",
       "    }\n",
       "\n",
       "    .dataframe thead th {\n",
       "        text-align: right;\n",
       "    }\n",
       "</style>\n",
       "<table border=\"1\" class=\"dataframe\">\n",
       "  <thead>\n",
       "    <tr style=\"text-align: right;\">\n",
       "      <th></th>\n",
       "      <th>ENROLLMENT_GRADES_K_12</th>\n",
       "    </tr>\n",
       "    <tr>\n",
       "      <th>YEAR</th>\n",
       "      <th></th>\n",
       "    </tr>\n",
       "  </thead>\n",
       "  <tbody>\n",
       "    <tr>\n",
       "      <th>2001</th>\n",
       "      <td>783</td>\n",
       "    </tr>\n",
       "    <tr>\n",
       "      <th>2002</th>\n",
       "      <td>1256</td>\n",
       "    </tr>\n",
       "    <tr>\n",
       "      <th>2003</th>\n",
       "      <td>2280</td>\n",
       "    </tr>\n",
       "    <tr>\n",
       "      <th>2004</th>\n",
       "      <td>2529</td>\n",
       "    </tr>\n",
       "    <tr>\n",
       "      <th>2005</th>\n",
       "      <td>3350</td>\n",
       "    </tr>\n",
       "  </tbody>\n",
       "</table>\n",
       "</div>"
      ],
      "text/plain": [
       "      ENROLLMENT_GRADES_K_12\n",
       "YEAR                        \n",
       "2001                     783\n",
       "2002                    1256\n",
       "2003                    2280\n",
       "2004                    2529\n",
       "2005                    3350"
      ]
     },
     "execution_count": 12,
     "metadata": {},
     "output_type": "execute_result"
    }
   ],
   "source": [
    "charter_school_enrollment.head()"
   ]
  },
  {
   "cell_type": "code",
   "execution_count": 14,
   "id": "98d99e8b",
   "metadata": {},
   "outputs": [],
   "source": [
    "magnet_school_enrollment = pd.pivot_table(stl_magnet_schools, values=\"ENROLLMENT_GRADES_K_12\", index=[\"YEAR\"], aggfunc=np.sum)\n",
    "alternative_school_enrollment = pd.pivot_table(stl_alternative_schools, values=\"ENROLLMENT_GRADES_K_12\", index=[\"YEAR\"], aggfunc=np.sum)\n",
    "neighborhood_school_enrollment = pd.pivot_table(stl_neighborhood_schools, values=\"ENROLLMENT_GRADES_K_12\", index=[\"YEAR\"], aggfunc=np.sum)"
   ]
  },
  {
   "cell_type": "code",
   "execution_count": 17,
   "id": "570acda2",
   "metadata": {},
   "outputs": [
    {
     "data": {
      "text/html": [
       "<div>\n",
       "<style scoped>\n",
       "    .dataframe tbody tr th:only-of-type {\n",
       "        vertical-align: middle;\n",
       "    }\n",
       "\n",
       "    .dataframe tbody tr th {\n",
       "        vertical-align: top;\n",
       "    }\n",
       "\n",
       "    .dataframe thead th {\n",
       "        text-align: right;\n",
       "    }\n",
       "</style>\n",
       "<table border=\"1\" class=\"dataframe\">\n",
       "  <thead>\n",
       "    <tr style=\"text-align: right;\">\n",
       "      <th></th>\n",
       "      <th>ENROLLMENT_GRADES_K_12</th>\n",
       "    </tr>\n",
       "    <tr>\n",
       "      <th>YEAR</th>\n",
       "      <th></th>\n",
       "    </tr>\n",
       "  </thead>\n",
       "  <tbody>\n",
       "    <tr>\n",
       "      <th>2000</th>\n",
       "      <td>29452</td>\n",
       "    </tr>\n",
       "    <tr>\n",
       "      <th>2001</th>\n",
       "      <td>29028</td>\n",
       "    </tr>\n",
       "    <tr>\n",
       "      <th>2002</th>\n",
       "      <td>28428</td>\n",
       "    </tr>\n",
       "    <tr>\n",
       "      <th>2003</th>\n",
       "      <td>27212</td>\n",
       "    </tr>\n",
       "    <tr>\n",
       "      <th>2004</th>\n",
       "      <td>26026</td>\n",
       "    </tr>\n",
       "  </tbody>\n",
       "</table>\n",
       "</div>"
      ],
      "text/plain": [
       "      ENROLLMENT_GRADES_K_12\n",
       "YEAR                        \n",
       "2000                   29452\n",
       "2001                   29028\n",
       "2002                   28428\n",
       "2003                   27212\n",
       "2004                   26026"
      ]
     },
     "execution_count": 17,
     "metadata": {},
     "output_type": "execute_result"
    }
   ],
   "source": [
    "neighborhood_school_enrollment.head()"
   ]
  },
  {
   "cell_type": "code",
   "execution_count": 18,
   "id": "9235d92d",
   "metadata": {},
   "outputs": [],
   "source": [
    "enrollment = neighborhood_school_enrollment.merge(magnet_school_enrollment, how=\"outer\", on=\"YEAR\", suffixes=[\"_NEIGHBORHOOD\", \"_MAGNET\"])\n",
    "enrollment = enrollment.merge(alternative_school_enrollment, how=\"outer\", on=\"YEAR\", suffixes=[None, \"_ALTERNATIVE\"])\n",
    "enrollment = enrollment.merge(charter_school_enrollment, how=\"outer\", on=\"YEAR\", suffixes=[None, \"_CHARTER\"])"
   ]
  },
  {
   "cell_type": "code",
   "execution_count": 19,
   "id": "b01e4266",
   "metadata": {},
   "outputs": [
    {
     "data": {
      "text/html": [
       "<div>\n",
       "<style scoped>\n",
       "    .dataframe tbody tr th:only-of-type {\n",
       "        vertical-align: middle;\n",
       "    }\n",
       "\n",
       "    .dataframe tbody tr th {\n",
       "        vertical-align: top;\n",
       "    }\n",
       "\n",
       "    .dataframe thead th {\n",
       "        text-align: right;\n",
       "    }\n",
       "</style>\n",
       "<table border=\"1\" class=\"dataframe\">\n",
       "  <thead>\n",
       "    <tr style=\"text-align: right;\">\n",
       "      <th></th>\n",
       "      <th>ENROLLMENT_GRADES_K_12_NEIGHBORHOOD</th>\n",
       "      <th>ENROLLMENT_GRADES_K_12_MAGNET</th>\n",
       "      <th>ENROLLMENT_GRADES_K_12</th>\n",
       "      <th>ENROLLMENT_GRADES_K_12_CHARTER</th>\n",
       "    </tr>\n",
       "    <tr>\n",
       "      <th>YEAR</th>\n",
       "      <th></th>\n",
       "      <th></th>\n",
       "      <th></th>\n",
       "      <th></th>\n",
       "    </tr>\n",
       "  </thead>\n",
       "  <tbody>\n",
       "    <tr>\n",
       "      <th>2000</th>\n",
       "      <td>29452</td>\n",
       "      <td>13549</td>\n",
       "      <td>1263</td>\n",
       "      <td>0.0</td>\n",
       "    </tr>\n",
       "    <tr>\n",
       "      <th>2001</th>\n",
       "      <td>29028</td>\n",
       "      <td>12963</td>\n",
       "      <td>607</td>\n",
       "      <td>783.0</td>\n",
       "    </tr>\n",
       "    <tr>\n",
       "      <th>2002</th>\n",
       "      <td>28428</td>\n",
       "      <td>12192</td>\n",
       "      <td>770</td>\n",
       "      <td>1256.0</td>\n",
       "    </tr>\n",
       "    <tr>\n",
       "      <th>2003</th>\n",
       "      <td>27212</td>\n",
       "      <td>12184</td>\n",
       "      <td>970</td>\n",
       "      <td>2280.0</td>\n",
       "    </tr>\n",
       "    <tr>\n",
       "      <th>2004</th>\n",
       "      <td>26026</td>\n",
       "      <td>11673</td>\n",
       "      <td>1452</td>\n",
       "      <td>2529.0</td>\n",
       "    </tr>\n",
       "    <tr>\n",
       "      <th>2005</th>\n",
       "      <td>24307</td>\n",
       "      <td>11622</td>\n",
       "      <td>767</td>\n",
       "      <td>3350.0</td>\n",
       "    </tr>\n",
       "    <tr>\n",
       "      <th>2006</th>\n",
       "      <td>22723</td>\n",
       "      <td>11425</td>\n",
       "      <td>893</td>\n",
       "      <td>4514.0</td>\n",
       "    </tr>\n",
       "    <tr>\n",
       "      <th>2007</th>\n",
       "      <td>20406</td>\n",
       "      <td>10689</td>\n",
       "      <td>678</td>\n",
       "      <td>5405.0</td>\n",
       "    </tr>\n",
       "    <tr>\n",
       "      <th>2008</th>\n",
       "      <td>17092</td>\n",
       "      <td>10002</td>\n",
       "      <td>480</td>\n",
       "      <td>7719.0</td>\n",
       "    </tr>\n",
       "    <tr>\n",
       "      <th>2009</th>\n",
       "      <td>15278</td>\n",
       "      <td>10384</td>\n",
       "      <td>446</td>\n",
       "      <td>9221.0</td>\n",
       "    </tr>\n",
       "    <tr>\n",
       "      <th>2010</th>\n",
       "      <td>13947</td>\n",
       "      <td>10690</td>\n",
       "      <td>408</td>\n",
       "      <td>9579.0</td>\n",
       "    </tr>\n",
       "    <tr>\n",
       "      <th>2011</th>\n",
       "      <td>12734</td>\n",
       "      <td>10489</td>\n",
       "      <td>353</td>\n",
       "      <td>10308.0</td>\n",
       "    </tr>\n",
       "    <tr>\n",
       "      <th>2012</th>\n",
       "      <td>11739</td>\n",
       "      <td>10589</td>\n",
       "      <td>188</td>\n",
       "      <td>11467.0</td>\n",
       "    </tr>\n",
       "    <tr>\n",
       "      <th>2013</th>\n",
       "      <td>12766</td>\n",
       "      <td>12243</td>\n",
       "      <td>191</td>\n",
       "      <td>8480.0</td>\n",
       "    </tr>\n",
       "    <tr>\n",
       "      <th>2014</th>\n",
       "      <td>12563</td>\n",
       "      <td>12117</td>\n",
       "      <td>189</td>\n",
       "      <td>9249.0</td>\n",
       "    </tr>\n",
       "    <tr>\n",
       "      <th>2015</th>\n",
       "      <td>11816</td>\n",
       "      <td>11669</td>\n",
       "      <td>669</td>\n",
       "      <td>9749.0</td>\n",
       "    </tr>\n",
       "    <tr>\n",
       "      <th>2016</th>\n",
       "      <td>10360</td>\n",
       "      <td>11252</td>\n",
       "      <td>894</td>\n",
       "      <td>10806.0</td>\n",
       "    </tr>\n",
       "    <tr>\n",
       "      <th>2017</th>\n",
       "      <td>9809</td>\n",
       "      <td>10838</td>\n",
       "      <td>1107</td>\n",
       "      <td>10934.0</td>\n",
       "    </tr>\n",
       "    <tr>\n",
       "      <th>2018</th>\n",
       "      <td>8871</td>\n",
       "      <td>10861</td>\n",
       "      <td>1147</td>\n",
       "      <td>11189.0</td>\n",
       "    </tr>\n",
       "    <tr>\n",
       "      <th>2019</th>\n",
       "      <td>8910</td>\n",
       "      <td>10038</td>\n",
       "      <td>823</td>\n",
       "      <td>11390.0</td>\n",
       "    </tr>\n",
       "    <tr>\n",
       "      <th>2020</th>\n",
       "      <td>8161</td>\n",
       "      <td>10291</td>\n",
       "      <td>770</td>\n",
       "      <td>11739.0</td>\n",
       "    </tr>\n",
       "  </tbody>\n",
       "</table>\n",
       "</div>"
      ],
      "text/plain": [
       "      ENROLLMENT_GRADES_K_12_NEIGHBORHOOD  ENROLLMENT_GRADES_K_12_MAGNET  \\\n",
       "YEAR                                                                       \n",
       "2000                                29452                          13549   \n",
       "2001                                29028                          12963   \n",
       "2002                                28428                          12192   \n",
       "2003                                27212                          12184   \n",
       "2004                                26026                          11673   \n",
       "2005                                24307                          11622   \n",
       "2006                                22723                          11425   \n",
       "2007                                20406                          10689   \n",
       "2008                                17092                          10002   \n",
       "2009                                15278                          10384   \n",
       "2010                                13947                          10690   \n",
       "2011                                12734                          10489   \n",
       "2012                                11739                          10589   \n",
       "2013                                12766                          12243   \n",
       "2014                                12563                          12117   \n",
       "2015                                11816                          11669   \n",
       "2016                                10360                          11252   \n",
       "2017                                 9809                          10838   \n",
       "2018                                 8871                          10861   \n",
       "2019                                 8910                          10038   \n",
       "2020                                 8161                          10291   \n",
       "\n",
       "      ENROLLMENT_GRADES_K_12  ENROLLMENT_GRADES_K_12_CHARTER  \n",
       "YEAR                                                          \n",
       "2000                    1263                             0.0  \n",
       "2001                     607                           783.0  \n",
       "2002                     770                          1256.0  \n",
       "2003                     970                          2280.0  \n",
       "2004                    1452                          2529.0  \n",
       "2005                     767                          3350.0  \n",
       "2006                     893                          4514.0  \n",
       "2007                     678                          5405.0  \n",
       "2008                     480                          7719.0  \n",
       "2009                     446                          9221.0  \n",
       "2010                     408                          9579.0  \n",
       "2011                     353                         10308.0  \n",
       "2012                     188                         11467.0  \n",
       "2013                     191                          8480.0  \n",
       "2014                     189                          9249.0  \n",
       "2015                     669                          9749.0  \n",
       "2016                     894                         10806.0  \n",
       "2017                    1107                         10934.0  \n",
       "2018                    1147                         11189.0  \n",
       "2019                     823                         11390.0  \n",
       "2020                     770                         11739.0  "
      ]
     },
     "execution_count": 19,
     "metadata": {},
     "output_type": "execute_result"
    }
   ],
   "source": [
    "enrollment.fillna(0)"
   ]
  },
  {
   "cell_type": "code",
   "execution_count": 20,
   "id": "2738c65d",
   "metadata": {},
   "outputs": [
    {
     "data": {
      "text/html": [
       "<div>\n",
       "<style scoped>\n",
       "    .dataframe tbody tr th:only-of-type {\n",
       "        vertical-align: middle;\n",
       "    }\n",
       "\n",
       "    .dataframe tbody tr th {\n",
       "        vertical-align: top;\n",
       "    }\n",
       "\n",
       "    .dataframe thead th {\n",
       "        text-align: right;\n",
       "    }\n",
       "</style>\n",
       "<table border=\"1\" class=\"dataframe\">\n",
       "  <thead>\n",
       "    <tr style=\"text-align: right;\">\n",
       "      <th></th>\n",
       "      <th>ENROLLMENT_GRADES_K_12_NEIGHBORHOOD</th>\n",
       "      <th>ENROLLMENT_GRADES_K_12_MAGNET</th>\n",
       "      <th>ENROLLMENT_GRADES_K_12</th>\n",
       "      <th>ENROLLMENT_GRADES_K_12_CHARTER</th>\n",
       "    </tr>\n",
       "    <tr>\n",
       "      <th>YEAR</th>\n",
       "      <th></th>\n",
       "      <th></th>\n",
       "      <th></th>\n",
       "      <th></th>\n",
       "    </tr>\n",
       "  </thead>\n",
       "  <tbody>\n",
       "    <tr>\n",
       "      <th>2000</th>\n",
       "      <td>29452</td>\n",
       "      <td>13549</td>\n",
       "      <td>1263</td>\n",
       "      <td>NaN</td>\n",
       "    </tr>\n",
       "    <tr>\n",
       "      <th>2001</th>\n",
       "      <td>29028</td>\n",
       "      <td>12963</td>\n",
       "      <td>607</td>\n",
       "      <td>783.0</td>\n",
       "    </tr>\n",
       "    <tr>\n",
       "      <th>2002</th>\n",
       "      <td>28428</td>\n",
       "      <td>12192</td>\n",
       "      <td>770</td>\n",
       "      <td>1256.0</td>\n",
       "    </tr>\n",
       "    <tr>\n",
       "      <th>2003</th>\n",
       "      <td>27212</td>\n",
       "      <td>12184</td>\n",
       "      <td>970</td>\n",
       "      <td>2280.0</td>\n",
       "    </tr>\n",
       "    <tr>\n",
       "      <th>2004</th>\n",
       "      <td>26026</td>\n",
       "      <td>11673</td>\n",
       "      <td>1452</td>\n",
       "      <td>2529.0</td>\n",
       "    </tr>\n",
       "  </tbody>\n",
       "</table>\n",
       "</div>"
      ],
      "text/plain": [
       "      ENROLLMENT_GRADES_K_12_NEIGHBORHOOD  ENROLLMENT_GRADES_K_12_MAGNET  \\\n",
       "YEAR                                                                       \n",
       "2000                                29452                          13549   \n",
       "2001                                29028                          12963   \n",
       "2002                                28428                          12192   \n",
       "2003                                27212                          12184   \n",
       "2004                                26026                          11673   \n",
       "\n",
       "      ENROLLMENT_GRADES_K_12  ENROLLMENT_GRADES_K_12_CHARTER  \n",
       "YEAR                                                          \n",
       "2000                    1263                             NaN  \n",
       "2001                     607                           783.0  \n",
       "2002                     770                          1256.0  \n",
       "2003                     970                          2280.0  \n",
       "2004                    1452                          2529.0  "
      ]
     },
     "execution_count": 20,
     "metadata": {},
     "output_type": "execute_result"
    }
   ],
   "source": [
    "enrollment.head()"
   ]
  },
  {
   "cell_type": "code",
   "execution_count": 21,
   "id": "855ea743",
   "metadata": {},
   "outputs": [],
   "source": [
    "enrollment.to_csv(\"enrollment_by_year2.csv\")"
   ]
  },
  {
   "cell_type": "code",
   "execution_count": 10,
   "id": "afc86dfa",
   "metadata": {},
   "outputs": [],
   "source": [
    "n_2000 = stl_neighborhood_schools[stl_neighborhood_schools[\"YEAR\"] == 2000]"
   ]
  },
  {
   "cell_type": "code",
   "execution_count": 11,
   "id": "32b22af1",
   "metadata": {},
   "outputs": [
    {
     "data": {
      "text/plain": [
       "(71, 57)"
      ]
     },
     "execution_count": 11,
     "metadata": {},
     "output_type": "execute_result"
    }
   ],
   "source": [
    "n_2000.shape"
   ]
  },
  {
   "cell_type": "code",
   "execution_count": 12,
   "id": "8b656e90",
   "metadata": {},
   "outputs": [],
   "source": [
    "n_2020 = stl_neighborhood_schools[stl_neighborhood_schools[\"YEAR\"] == 2020]"
   ]
  },
  {
   "cell_type": "code",
   "execution_count": 13,
   "id": "69be02d2",
   "metadata": {},
   "outputs": [
    {
     "data": {
      "text/plain": [
       "(38, 57)"
      ]
     },
     "execution_count": 13,
     "metadata": {},
     "output_type": "execute_result"
    }
   ],
   "source": [
    "n_2020.shape"
   ]
  },
  {
   "cell_type": "code",
   "execution_count": 14,
   "id": "872234c6",
   "metadata": {},
   "outputs": [],
   "source": [
    "c_2001 = stl_charter_schools[stl_charter_schools[\"YEAR\"] == 2001]"
   ]
  },
  {
   "cell_type": "code",
   "execution_count": 15,
   "id": "99b766ce",
   "metadata": {},
   "outputs": [
    {
     "data": {
      "text/plain": [
       "(3, 57)"
      ]
     },
     "execution_count": 15,
     "metadata": {},
     "output_type": "execute_result"
    }
   ],
   "source": [
    "c_2001.shape"
   ]
  },
  {
   "cell_type": "code",
   "execution_count": 16,
   "id": "2f673eaf",
   "metadata": {},
   "outputs": [
    {
     "data": {
      "text/html": [
       "<div>\n",
       "<style scoped>\n",
       "    .dataframe tbody tr th:only-of-type {\n",
       "        vertical-align: middle;\n",
       "    }\n",
       "\n",
       "    .dataframe tbody tr th {\n",
       "        vertical-align: top;\n",
       "    }\n",
       "\n",
       "    .dataframe thead th {\n",
       "        text-align: right;\n",
       "    }\n",
       "</style>\n",
       "<table border=\"1\" class=\"dataframe\">\n",
       "  <thead>\n",
       "    <tr style=\"text-align: right;\">\n",
       "      <th></th>\n",
       "      <th>Unnamed: 0</th>\n",
       "      <th>YEAR</th>\n",
       "      <th>COUNTY_DISTRICT_CODE</th>\n",
       "      <th>DISTRICT_NAME</th>\n",
       "      <th>SCHOOL_CODE</th>\n",
       "      <th>SCHOOL_NAME</th>\n",
       "      <th>ENROLLMENT_GRADES_K_12</th>\n",
       "      <th>JANUARY_MEMBERSHIP</th>\n",
       "      <th>LUNCH_COUNT_FREE_REDUCED</th>\n",
       "      <th>LUNCH_COUNT_FREE_REDUCTED_PCT</th>\n",
       "      <th>...</th>\n",
       "      <th>JUNIOR_HIGH_SCHOOL_FLAG</th>\n",
       "      <th>HIGH_SCHOOL_FLAG</th>\n",
       "      <th>AVTS_FLAG</th>\n",
       "      <th>ALTERNATIVE_SCHOOL_FLAG</th>\n",
       "      <th>FULL_CODE</th>\n",
       "      <th>CHARTER</th>\n",
       "      <th>MAGNET</th>\n",
       "      <th>ALTERNATIVE</th>\n",
       "      <th>lat</th>\n",
       "      <th>lng</th>\n",
       "    </tr>\n",
       "  </thead>\n",
       "  <tbody>\n",
       "    <tr>\n",
       "      <th>718</th>\n",
       "      <td>718</td>\n",
       "      <td>2001</td>\n",
       "      <td>115115</td>\n",
       "      <td>ST. LOUIS CITY</td>\n",
       "      <td>3910</td>\n",
       "      <td>LIFT FOR LIFE ACADEMY</td>\n",
       "      <td>63</td>\n",
       "      <td>65.0</td>\n",
       "      <td>*</td>\n",
       "      <td>*</td>\n",
       "      <td>...</td>\n",
       "      <td>NaN</td>\n",
       "      <td>NaN</td>\n",
       "      <td>NaN</td>\n",
       "      <td>NaN</td>\n",
       "      <td>115-115-3910</td>\n",
       "      <td>True</td>\n",
       "      <td>False</td>\n",
       "      <td>False</td>\n",
       "      <td>38.608455</td>\n",
       "      <td>-90.200538</td>\n",
       "    </tr>\n",
       "    <tr>\n",
       "      <th>1987</th>\n",
       "      <td>1987</td>\n",
       "      <td>2001</td>\n",
       "      <td>115115</td>\n",
       "      <td>ST. LOUIS CITY</td>\n",
       "      <td>6915</td>\n",
       "      <td>ST. LOUIS CHARTER SCH.</td>\n",
       "      <td>526</td>\n",
       "      <td>516.0</td>\n",
       "      <td>340</td>\n",
       "      <td>65.9</td>\n",
       "      <td>...</td>\n",
       "      <td>NaN</td>\n",
       "      <td>NaN</td>\n",
       "      <td>NaN</td>\n",
       "      <td>NaN</td>\n",
       "      <td>115-115-6915</td>\n",
       "      <td>True</td>\n",
       "      <td>False</td>\n",
       "      <td>False</td>\n",
       "      <td>38.601907</td>\n",
       "      <td>-90.278729</td>\n",
       "    </tr>\n",
       "    <tr>\n",
       "      <th>2007</th>\n",
       "      <td>2007</td>\n",
       "      <td>2001</td>\n",
       "      <td>115115</td>\n",
       "      <td>ST. LOUIS CITY</td>\n",
       "      <td>6920</td>\n",
       "      <td>ETHEL HEDGEMAN LYLE ACADEMY</td>\n",
       "      <td>194</td>\n",
       "      <td>191.0</td>\n",
       "      <td>86</td>\n",
       "      <td>45</td>\n",
       "      <td>...</td>\n",
       "      <td>NaN</td>\n",
       "      <td>NaN</td>\n",
       "      <td>NaN</td>\n",
       "      <td>NaN</td>\n",
       "      <td>115-115-6920</td>\n",
       "      <td>True</td>\n",
       "      <td>False</td>\n",
       "      <td>False</td>\n",
       "      <td>38.632870</td>\n",
       "      <td>-90.200533</td>\n",
       "    </tr>\n",
       "  </tbody>\n",
       "</table>\n",
       "<p>3 rows × 57 columns</p>\n",
       "</div>"
      ],
      "text/plain": [
       "      Unnamed: 0  YEAR  COUNTY_DISTRICT_CODE   DISTRICT_NAME  SCHOOL_CODE  \\\n",
       "718          718  2001                115115  ST. LOUIS CITY         3910   \n",
       "1987        1987  2001                115115  ST. LOUIS CITY         6915   \n",
       "2007        2007  2001                115115  ST. LOUIS CITY         6920   \n",
       "\n",
       "                      SCHOOL_NAME  ENROLLMENT_GRADES_K_12  JANUARY_MEMBERSHIP  \\\n",
       "718         LIFT FOR LIFE ACADEMY                      63                65.0   \n",
       "1987       ST. LOUIS CHARTER SCH.                     526               516.0   \n",
       "2007  ETHEL HEDGEMAN LYLE ACADEMY                     194               191.0   \n",
       "\n",
       "     LUNCH_COUNT_FREE_REDUCED LUNCH_COUNT_FREE_REDUCTED_PCT  ...  \\\n",
       "718                         *                             *  ...   \n",
       "1987                      340                          65.9  ...   \n",
       "2007                       86                            45  ...   \n",
       "\n",
       "     JUNIOR_HIGH_SCHOOL_FLAG HIGH_SCHOOL_FLAG AVTS_FLAG  \\\n",
       "718                      NaN              NaN       NaN   \n",
       "1987                     NaN              NaN       NaN   \n",
       "2007                     NaN              NaN       NaN   \n",
       "\n",
       "     ALTERNATIVE_SCHOOL_FLAG     FULL_CODE CHARTER MAGNET ALTERNATIVE  \\\n",
       "718                      NaN  115-115-3910    True  False       False   \n",
       "1987                     NaN  115-115-6915    True  False       False   \n",
       "2007                     NaN  115-115-6920    True  False       False   \n",
       "\n",
       "            lat        lng  \n",
       "718   38.608455 -90.200538  \n",
       "1987  38.601907 -90.278729  \n",
       "2007  38.632870 -90.200533  \n",
       "\n",
       "[3 rows x 57 columns]"
      ]
     },
     "execution_count": 16,
     "metadata": {},
     "output_type": "execute_result"
    }
   ],
   "source": [
    "c_2001.head()"
   ]
  },
  {
   "cell_type": "code",
   "execution_count": 17,
   "id": "7b7a8a1f",
   "metadata": {},
   "outputs": [],
   "source": [
    "c_2020 = stl_charter_schools[stl_charter_schools[\"YEAR\"] == 2020]"
   ]
  },
  {
   "cell_type": "code",
   "execution_count": 18,
   "id": "a2699e13",
   "metadata": {},
   "outputs": [
    {
     "data": {
      "text/plain": [
       "(37, 57)"
      ]
     },
     "execution_count": 18,
     "metadata": {},
     "output_type": "execute_result"
    }
   ],
   "source": [
    "c_2020.shape"
   ]
  },
  {
   "cell_type": "code",
   "execution_count": 19,
   "id": "bb116df9",
   "metadata": {},
   "outputs": [],
   "source": [
    "m_2000 = stl_magnet_schools[stl_magnet_schools['YEAR'] == 2000]"
   ]
  },
  {
   "cell_type": "code",
   "execution_count": 20,
   "id": "7097eb73",
   "metadata": {},
   "outputs": [
    {
     "data": {
      "text/plain": [
       "(31, 57)"
      ]
     },
     "execution_count": 20,
     "metadata": {},
     "output_type": "execute_result"
    }
   ],
   "source": [
    "m_2000.shape"
   ]
  },
  {
   "cell_type": "code",
   "execution_count": 21,
   "id": "d8c59b1d",
   "metadata": {},
   "outputs": [],
   "source": [
    "m_2020 = stl_magnet_schools[stl_magnet_schools['YEAR'] == 2020]"
   ]
  },
  {
   "cell_type": "code",
   "execution_count": 22,
   "id": "2d1de714",
   "metadata": {},
   "outputs": [
    {
     "data": {
      "text/plain": [
       "(27, 57)"
      ]
     },
     "execution_count": 22,
     "metadata": {},
     "output_type": "execute_result"
    }
   ],
   "source": [
    "m_2020.shape"
   ]
  },
  {
   "cell_type": "code",
   "execution_count": null,
   "id": "ba305aed",
   "metadata": {},
   "outputs": [],
   "source": []
  }
 ],
 "metadata": {
  "kernelspec": {
   "display_name": "Python 3",
   "language": "python",
   "name": "python3"
  },
  "language_info": {
   "codemirror_mode": {
    "name": "ipython",
    "version": 3
   },
   "file_extension": ".py",
   "mimetype": "text/x-python",
   "name": "python",
   "nbconvert_exporter": "python",
   "pygments_lexer": "ipython3",
   "version": "3.9.7"
  }
 },
 "nbformat": 4,
 "nbformat_minor": 5
}
