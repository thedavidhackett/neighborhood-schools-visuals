{
 "cells": [
  {
   "cell_type": "code",
   "execution_count": 57,
   "id": "956a40ae",
   "metadata": {},
   "outputs": [],
   "source": [
    "import numpy as np"
   ]
  },
  {
   "cell_type": "code",
   "execution_count": 58,
   "id": "61ede67e",
   "metadata": {},
   "outputs": [],
   "source": [
    "import pandas as pd"
   ]
  },
  {
   "cell_type": "code",
   "execution_count": 59,
   "id": "0ca91041",
   "metadata": {},
   "outputs": [],
   "source": [
    "county_data = pd.read_csv(\"county_data_00_10.csv\")"
   ]
  },
  {
   "cell_type": "code",
   "execution_count": 60,
   "id": "91b61a36",
   "metadata": {},
   "outputs": [
    {
     "data": {
      "text/plain": [
       "(29900, 50)"
      ]
     },
     "execution_count": 60,
     "metadata": {},
     "output_type": "execute_result"
    }
   ],
   "source": [
    "county_data.shape"
   ]
  },
  {
   "cell_type": "code",
   "execution_count": 61,
   "id": "b9e383e2",
   "metadata": {},
   "outputs": [
    {
     "data": {
      "text/html": [
       "<div>\n",
       "<style scoped>\n",
       "    .dataframe tbody tr th:only-of-type {\n",
       "        vertical-align: middle;\n",
       "    }\n",
       "\n",
       "    .dataframe tbody tr th {\n",
       "        vertical-align: top;\n",
       "    }\n",
       "\n",
       "    .dataframe thead th {\n",
       "        text-align: right;\n",
       "    }\n",
       "</style>\n",
       "<table border=\"1\" class=\"dataframe\">\n",
       "  <thead>\n",
       "    <tr style=\"text-align: right;\">\n",
       "      <th></th>\n",
       "      <th>SUMLEV</th>\n",
       "      <th>STATE</th>\n",
       "      <th>COUNTY</th>\n",
       "      <th>STNAME</th>\n",
       "      <th>CTYNAME</th>\n",
       "      <th>YEAR</th>\n",
       "      <th>AGEGRP</th>\n",
       "      <th>TOT_POP</th>\n",
       "      <th>TOT_MALE</th>\n",
       "      <th>TOT_FEMALE</th>\n",
       "      <th>...</th>\n",
       "      <th>HBA_MALE</th>\n",
       "      <th>HBA_FEMALE</th>\n",
       "      <th>HIA_MALE</th>\n",
       "      <th>HIA_FEMALE</th>\n",
       "      <th>HAA_MALE</th>\n",
       "      <th>HAA_FEMALE</th>\n",
       "      <th>HNA_MALE</th>\n",
       "      <th>HNA_FEMALE</th>\n",
       "      <th>HTOM_MALE</th>\n",
       "      <th>HTOM_FEMALE</th>\n",
       "    </tr>\n",
       "  </thead>\n",
       "  <tbody>\n",
       "    <tr>\n",
       "      <th>0</th>\n",
       "      <td>50</td>\n",
       "      <td>29</td>\n",
       "      <td>1</td>\n",
       "      <td>Missouri</td>\n",
       "      <td>Adair County</td>\n",
       "      <td>1</td>\n",
       "      <td>0</td>\n",
       "      <td>248</td>\n",
       "      <td>134</td>\n",
       "      <td>114</td>\n",
       "      <td>...</td>\n",
       "      <td>0</td>\n",
       "      <td>0</td>\n",
       "      <td>0</td>\n",
       "      <td>0</td>\n",
       "      <td>0</td>\n",
       "      <td>0</td>\n",
       "      <td>0</td>\n",
       "      <td>0</td>\n",
       "      <td>0</td>\n",
       "      <td>0</td>\n",
       "    </tr>\n",
       "    <tr>\n",
       "      <th>1</th>\n",
       "      <td>50</td>\n",
       "      <td>29</td>\n",
       "      <td>1</td>\n",
       "      <td>Missouri</td>\n",
       "      <td>Adair County</td>\n",
       "      <td>1</td>\n",
       "      <td>1</td>\n",
       "      <td>1073</td>\n",
       "      <td>543</td>\n",
       "      <td>530</td>\n",
       "      <td>...</td>\n",
       "      <td>0</td>\n",
       "      <td>1</td>\n",
       "      <td>0</td>\n",
       "      <td>1</td>\n",
       "      <td>0</td>\n",
       "      <td>0</td>\n",
       "      <td>0</td>\n",
       "      <td>0</td>\n",
       "      <td>0</td>\n",
       "      <td>0</td>\n",
       "    </tr>\n",
       "    <tr>\n",
       "      <th>2</th>\n",
       "      <td>50</td>\n",
       "      <td>29</td>\n",
       "      <td>1</td>\n",
       "      <td>Missouri</td>\n",
       "      <td>Adair County</td>\n",
       "      <td>1</td>\n",
       "      <td>2</td>\n",
       "      <td>1275</td>\n",
       "      <td>685</td>\n",
       "      <td>590</td>\n",
       "      <td>...</td>\n",
       "      <td>0</td>\n",
       "      <td>0</td>\n",
       "      <td>1</td>\n",
       "      <td>1</td>\n",
       "      <td>0</td>\n",
       "      <td>0</td>\n",
       "      <td>0</td>\n",
       "      <td>0</td>\n",
       "      <td>1</td>\n",
       "      <td>0</td>\n",
       "    </tr>\n",
       "    <tr>\n",
       "      <th>3</th>\n",
       "      <td>50</td>\n",
       "      <td>29</td>\n",
       "      <td>1</td>\n",
       "      <td>Missouri</td>\n",
       "      <td>Adair County</td>\n",
       "      <td>1</td>\n",
       "      <td>3</td>\n",
       "      <td>1330</td>\n",
       "      <td>651</td>\n",
       "      <td>679</td>\n",
       "      <td>...</td>\n",
       "      <td>0</td>\n",
       "      <td>1</td>\n",
       "      <td>0</td>\n",
       "      <td>0</td>\n",
       "      <td>0</td>\n",
       "      <td>0</td>\n",
       "      <td>0</td>\n",
       "      <td>0</td>\n",
       "      <td>0</td>\n",
       "      <td>0</td>\n",
       "    </tr>\n",
       "    <tr>\n",
       "      <th>4</th>\n",
       "      <td>50</td>\n",
       "      <td>29</td>\n",
       "      <td>1</td>\n",
       "      <td>Missouri</td>\n",
       "      <td>Adair County</td>\n",
       "      <td>1</td>\n",
       "      <td>4</td>\n",
       "      <td>3162</td>\n",
       "      <td>1375</td>\n",
       "      <td>1787</td>\n",
       "      <td>...</td>\n",
       "      <td>2</td>\n",
       "      <td>0</td>\n",
       "      <td>1</td>\n",
       "      <td>0</td>\n",
       "      <td>0</td>\n",
       "      <td>0</td>\n",
       "      <td>0</td>\n",
       "      <td>0</td>\n",
       "      <td>0</td>\n",
       "      <td>4</td>\n",
       "    </tr>\n",
       "  </tbody>\n",
       "</table>\n",
       "<p>5 rows × 50 columns</p>\n",
       "</div>"
      ],
      "text/plain": [
       "   SUMLEV  STATE  COUNTY    STNAME       CTYNAME  YEAR  AGEGRP  TOT_POP  \\\n",
       "0      50     29       1  Missouri  Adair County     1       0      248   \n",
       "1      50     29       1  Missouri  Adair County     1       1     1073   \n",
       "2      50     29       1  Missouri  Adair County     1       2     1275   \n",
       "3      50     29       1  Missouri  Adair County     1       3     1330   \n",
       "4      50     29       1  Missouri  Adair County     1       4     3162   \n",
       "\n",
       "   TOT_MALE  TOT_FEMALE  ...  HBA_MALE  HBA_FEMALE  HIA_MALE  HIA_FEMALE  \\\n",
       "0       134         114  ...         0           0         0           0   \n",
       "1       543         530  ...         0           1         0           1   \n",
       "2       685         590  ...         0           0         1           1   \n",
       "3       651         679  ...         0           1         0           0   \n",
       "4      1375        1787  ...         2           0         1           0   \n",
       "\n",
       "   HAA_MALE  HAA_FEMALE  HNA_MALE  HNA_FEMALE  HTOM_MALE  HTOM_FEMALE  \n",
       "0         0           0         0           0          0            0  \n",
       "1         0           0         0           0          0            0  \n",
       "2         0           0         0           0          1            0  \n",
       "3         0           0         0           0          0            0  \n",
       "4         0           0         0           0          0            4  \n",
       "\n",
       "[5 rows x 50 columns]"
      ]
     },
     "execution_count": 61,
     "metadata": {},
     "output_type": "execute_result"
    }
   ],
   "source": [
    "county_data.head()"
   ]
  },
  {
   "cell_type": "code",
   "execution_count": 62,
   "id": "5ff9ceee",
   "metadata": {},
   "outputs": [],
   "source": [
    "stl_data = county_data[county_data['CTYNAME'] == \"St. Louis city\"]"
   ]
  },
  {
   "cell_type": "code",
   "execution_count": 63,
   "id": "3c75d877",
   "metadata": {},
   "outputs": [
    {
     "data": {
      "text/plain": [
       "(260, 50)"
      ]
     },
     "execution_count": 63,
     "metadata": {},
     "output_type": "execute_result"
    }
   ],
   "source": [
    "stl_data.shape"
   ]
  },
  {
   "cell_type": "code",
   "execution_count": 64,
   "id": "cb7ce696",
   "metadata": {},
   "outputs": [
    {
     "data": {
      "text/html": [
       "<div>\n",
       "<style scoped>\n",
       "    .dataframe tbody tr th:only-of-type {\n",
       "        vertical-align: middle;\n",
       "    }\n",
       "\n",
       "    .dataframe tbody tr th {\n",
       "        vertical-align: top;\n",
       "    }\n",
       "\n",
       "    .dataframe thead th {\n",
       "        text-align: right;\n",
       "    }\n",
       "</style>\n",
       "<table border=\"1\" class=\"dataframe\">\n",
       "  <thead>\n",
       "    <tr style=\"text-align: right;\">\n",
       "      <th></th>\n",
       "      <th>SUMLEV</th>\n",
       "      <th>STATE</th>\n",
       "      <th>COUNTY</th>\n",
       "      <th>STNAME</th>\n",
       "      <th>CTYNAME</th>\n",
       "      <th>YEAR</th>\n",
       "      <th>AGEGRP</th>\n",
       "      <th>TOT_POP</th>\n",
       "      <th>TOT_MALE</th>\n",
       "      <th>TOT_FEMALE</th>\n",
       "      <th>...</th>\n",
       "      <th>HBA_MALE</th>\n",
       "      <th>HBA_FEMALE</th>\n",
       "      <th>HIA_MALE</th>\n",
       "      <th>HIA_FEMALE</th>\n",
       "      <th>HAA_MALE</th>\n",
       "      <th>HAA_FEMALE</th>\n",
       "      <th>HNA_MALE</th>\n",
       "      <th>HNA_FEMALE</th>\n",
       "      <th>HTOM_MALE</th>\n",
       "      <th>HTOM_FEMALE</th>\n",
       "    </tr>\n",
       "  </thead>\n",
       "  <tbody>\n",
       "    <tr>\n",
       "      <th>29640</th>\n",
       "      <td>50</td>\n",
       "      <td>29</td>\n",
       "      <td>510</td>\n",
       "      <td>Missouri</td>\n",
       "      <td>St. Louis city</td>\n",
       "      <td>1</td>\n",
       "      <td>0</td>\n",
       "      <td>4663</td>\n",
       "      <td>2423</td>\n",
       "      <td>2240</td>\n",
       "      <td>...</td>\n",
       "      <td>10</td>\n",
       "      <td>9</td>\n",
       "      <td>0</td>\n",
       "      <td>1</td>\n",
       "      <td>0</td>\n",
       "      <td>0</td>\n",
       "      <td>0</td>\n",
       "      <td>0</td>\n",
       "      <td>9</td>\n",
       "      <td>3</td>\n",
       "    </tr>\n",
       "    <tr>\n",
       "      <th>29641</th>\n",
       "      <td>50</td>\n",
       "      <td>29</td>\n",
       "      <td>510</td>\n",
       "      <td>Missouri</td>\n",
       "      <td>St. Louis city</td>\n",
       "      <td>1</td>\n",
       "      <td>1</td>\n",
       "      <td>18811</td>\n",
       "      <td>9491</td>\n",
       "      <td>9320</td>\n",
       "      <td>...</td>\n",
       "      <td>50</td>\n",
       "      <td>46</td>\n",
       "      <td>4</td>\n",
       "      <td>3</td>\n",
       "      <td>3</td>\n",
       "      <td>4</td>\n",
       "      <td>0</td>\n",
       "      <td>1</td>\n",
       "      <td>13</td>\n",
       "      <td>10</td>\n",
       "    </tr>\n",
       "    <tr>\n",
       "      <th>29642</th>\n",
       "      <td>50</td>\n",
       "      <td>29</td>\n",
       "      <td>510</td>\n",
       "      <td>Missouri</td>\n",
       "      <td>St. Louis city</td>\n",
       "      <td>1</td>\n",
       "      <td>2</td>\n",
       "      <td>26711</td>\n",
       "      <td>13543</td>\n",
       "      <td>13168</td>\n",
       "      <td>...</td>\n",
       "      <td>48</td>\n",
       "      <td>77</td>\n",
       "      <td>4</td>\n",
       "      <td>5</td>\n",
       "      <td>3</td>\n",
       "      <td>3</td>\n",
       "      <td>1</td>\n",
       "      <td>0</td>\n",
       "      <td>11</td>\n",
       "      <td>9</td>\n",
       "    </tr>\n",
       "    <tr>\n",
       "      <th>29643</th>\n",
       "      <td>50</td>\n",
       "      <td>29</td>\n",
       "      <td>510</td>\n",
       "      <td>Missouri</td>\n",
       "      <td>St. Louis city</td>\n",
       "      <td>1</td>\n",
       "      <td>3</td>\n",
       "      <td>25023</td>\n",
       "      <td>12592</td>\n",
       "      <td>12431</td>\n",
       "      <td>...</td>\n",
       "      <td>51</td>\n",
       "      <td>52</td>\n",
       "      <td>5</td>\n",
       "      <td>6</td>\n",
       "      <td>6</td>\n",
       "      <td>3</td>\n",
       "      <td>0</td>\n",
       "      <td>0</td>\n",
       "      <td>15</td>\n",
       "      <td>10</td>\n",
       "    </tr>\n",
       "    <tr>\n",
       "      <th>29644</th>\n",
       "      <td>50</td>\n",
       "      <td>29</td>\n",
       "      <td>510</td>\n",
       "      <td>Missouri</td>\n",
       "      <td>St. Louis city</td>\n",
       "      <td>1</td>\n",
       "      <td>4</td>\n",
       "      <td>24731</td>\n",
       "      <td>12284</td>\n",
       "      <td>12447</td>\n",
       "      <td>...</td>\n",
       "      <td>45</td>\n",
       "      <td>51</td>\n",
       "      <td>3</td>\n",
       "      <td>3</td>\n",
       "      <td>3</td>\n",
       "      <td>2</td>\n",
       "      <td>0</td>\n",
       "      <td>0</td>\n",
       "      <td>7</td>\n",
       "      <td>14</td>\n",
       "    </tr>\n",
       "  </tbody>\n",
       "</table>\n",
       "<p>5 rows × 50 columns</p>\n",
       "</div>"
      ],
      "text/plain": [
       "       SUMLEV  STATE  COUNTY    STNAME         CTYNAME  YEAR  AGEGRP  TOT_POP  \\\n",
       "29640      50     29     510  Missouri  St. Louis city     1       0     4663   \n",
       "29641      50     29     510  Missouri  St. Louis city     1       1    18811   \n",
       "29642      50     29     510  Missouri  St. Louis city     1       2    26711   \n",
       "29643      50     29     510  Missouri  St. Louis city     1       3    25023   \n",
       "29644      50     29     510  Missouri  St. Louis city     1       4    24731   \n",
       "\n",
       "       TOT_MALE  TOT_FEMALE  ...  HBA_MALE  HBA_FEMALE  HIA_MALE  HIA_FEMALE  \\\n",
       "29640      2423        2240  ...        10           9         0           1   \n",
       "29641      9491        9320  ...        50          46         4           3   \n",
       "29642     13543       13168  ...        48          77         4           5   \n",
       "29643     12592       12431  ...        51          52         5           6   \n",
       "29644     12284       12447  ...        45          51         3           3   \n",
       "\n",
       "       HAA_MALE  HAA_FEMALE  HNA_MALE  HNA_FEMALE  HTOM_MALE  HTOM_FEMALE  \n",
       "29640         0           0         0           0          9            3  \n",
       "29641         3           4         0           1         13           10  \n",
       "29642         3           3         1           0         11            9  \n",
       "29643         6           3         0           0         15           10  \n",
       "29644         3           2         0           0          7           14  \n",
       "\n",
       "[5 rows x 50 columns]"
      ]
     },
     "execution_count": 64,
     "metadata": {},
     "output_type": "execute_result"
    }
   ],
   "source": [
    "stl_data.head()"
   ]
  },
  {
   "cell_type": "code",
   "execution_count": 65,
   "id": "b63953c5",
   "metadata": {},
   "outputs": [],
   "source": [
    "stl_data_filtered = stl_data[[\"YEAR\", \"AGEGRP\", \"TOT_POP\"]]"
   ]
  },
  {
   "cell_type": "code",
   "execution_count": 66,
   "id": "932523cd",
   "metadata": {},
   "outputs": [
    {
     "data": {
      "text/plain": [
       "(260, 3)"
      ]
     },
     "execution_count": 66,
     "metadata": {},
     "output_type": "execute_result"
    }
   ],
   "source": [
    "stl_data_filtered.shape"
   ]
  },
  {
   "cell_type": "code",
   "execution_count": 67,
   "id": "a454f0ff",
   "metadata": {},
   "outputs": [],
   "source": [
    "stl_data_filtered = stl_data_filtered[stl_data_filtered[\"YEAR\"] != 2]"
   ]
  },
  {
   "cell_type": "code",
   "execution_count": 68,
   "id": "30babbe5",
   "metadata": {},
   "outputs": [],
   "source": [
    "stl_data_filtered = stl_data_filtered[stl_data_filtered[\"YEAR\"] != 13]"
   ]
  },
  {
   "cell_type": "code",
   "execution_count": 69,
   "id": "56d1190c",
   "metadata": {},
   "outputs": [
    {
     "data": {
      "text/plain": [
       "(220, 3)"
      ]
     },
     "execution_count": 69,
     "metadata": {},
     "output_type": "execute_result"
    }
   ],
   "source": [
    "stl_data_filtered.shape"
   ]
  },
  {
   "cell_type": "code",
   "execution_count": 70,
   "id": "b85a0bb3",
   "metadata": {},
   "outputs": [],
   "source": [
    "def fix_year(year):\n",
    "    if year == 1:\n",
    "        return 2000\n",
    "    else:\n",
    "        return 1998 + year\n",
    "\n",
    "stl_data_filtered[\"YEAR\"] = stl_data_filtered[\"YEAR\"].apply(func=fix_year)"
   ]
  },
  {
   "cell_type": "code",
   "execution_count": 71,
   "id": "e7fc5d49",
   "metadata": {},
   "outputs": [
    {
     "data": {
      "text/html": [
       "<div>\n",
       "<style scoped>\n",
       "    .dataframe tbody tr th:only-of-type {\n",
       "        vertical-align: middle;\n",
       "    }\n",
       "\n",
       "    .dataframe tbody tr th {\n",
       "        vertical-align: top;\n",
       "    }\n",
       "\n",
       "    .dataframe thead th {\n",
       "        text-align: right;\n",
       "    }\n",
       "</style>\n",
       "<table border=\"1\" class=\"dataframe\">\n",
       "  <thead>\n",
       "    <tr style=\"text-align: right;\">\n",
       "      <th></th>\n",
       "      <th>YEAR</th>\n",
       "      <th>AGEGRP</th>\n",
       "      <th>TOT_POP</th>\n",
       "    </tr>\n",
       "  </thead>\n",
       "  <tbody>\n",
       "    <tr>\n",
       "      <th>29640</th>\n",
       "      <td>2000</td>\n",
       "      <td>0</td>\n",
       "      <td>4663</td>\n",
       "    </tr>\n",
       "    <tr>\n",
       "      <th>29641</th>\n",
       "      <td>2000</td>\n",
       "      <td>1</td>\n",
       "      <td>18811</td>\n",
       "    </tr>\n",
       "    <tr>\n",
       "      <th>29642</th>\n",
       "      <td>2000</td>\n",
       "      <td>2</td>\n",
       "      <td>26711</td>\n",
       "    </tr>\n",
       "    <tr>\n",
       "      <th>29643</th>\n",
       "      <td>2000</td>\n",
       "      <td>3</td>\n",
       "      <td>25023</td>\n",
       "    </tr>\n",
       "    <tr>\n",
       "      <th>29644</th>\n",
       "      <td>2000</td>\n",
       "      <td>4</td>\n",
       "      <td>24731</td>\n",
       "    </tr>\n",
       "  </tbody>\n",
       "</table>\n",
       "</div>"
      ],
      "text/plain": [
       "       YEAR  AGEGRP  TOT_POP\n",
       "29640  2000       0     4663\n",
       "29641  2000       1    18811\n",
       "29642  2000       2    26711\n",
       "29643  2000       3    25023\n",
       "29644  2000       4    24731"
      ]
     },
     "execution_count": 71,
     "metadata": {},
     "output_type": "execute_result"
    }
   ],
   "source": [
    "stl_data_filtered.head()"
   ]
  },
  {
   "cell_type": "code",
   "execution_count": 72,
   "id": "715f65ec",
   "metadata": {},
   "outputs": [],
   "source": [
    "stl_student_aged = stl_data_filtered.loc[(stl_data_filtered[\"AGEGRP\"] >= 2) & (stl_data_filtered[\"AGEGRP\"] <= 4)]"
   ]
  },
  {
   "cell_type": "code",
   "execution_count": 73,
   "id": "e9a2aa94",
   "metadata": {},
   "outputs": [
    {
     "data": {
      "text/plain": [
       "(33, 3)"
      ]
     },
     "execution_count": 73,
     "metadata": {},
     "output_type": "execute_result"
    }
   ],
   "source": [
    "stl_student_aged.shape"
   ]
  },
  {
   "cell_type": "code",
   "execution_count": 74,
   "id": "03dc7be9",
   "metadata": {},
   "outputs": [
    {
     "data": {
      "text/html": [
       "<div>\n",
       "<style scoped>\n",
       "    .dataframe tbody tr th:only-of-type {\n",
       "        vertical-align: middle;\n",
       "    }\n",
       "\n",
       "    .dataframe tbody tr th {\n",
       "        vertical-align: top;\n",
       "    }\n",
       "\n",
       "    .dataframe thead th {\n",
       "        text-align: right;\n",
       "    }\n",
       "</style>\n",
       "<table border=\"1\" class=\"dataframe\">\n",
       "  <thead>\n",
       "    <tr style=\"text-align: right;\">\n",
       "      <th></th>\n",
       "      <th>YEAR</th>\n",
       "      <th>AGEGRP</th>\n",
       "      <th>TOT_POP</th>\n",
       "    </tr>\n",
       "  </thead>\n",
       "  <tbody>\n",
       "    <tr>\n",
       "      <th>29642</th>\n",
       "      <td>2000</td>\n",
       "      <td>2</td>\n",
       "      <td>26711</td>\n",
       "    </tr>\n",
       "    <tr>\n",
       "      <th>29643</th>\n",
       "      <td>2000</td>\n",
       "      <td>3</td>\n",
       "      <td>25023</td>\n",
       "    </tr>\n",
       "    <tr>\n",
       "      <th>29644</th>\n",
       "      <td>2000</td>\n",
       "      <td>4</td>\n",
       "      <td>24731</td>\n",
       "    </tr>\n",
       "    <tr>\n",
       "      <th>29682</th>\n",
       "      <td>2001</td>\n",
       "      <td>2</td>\n",
       "      <td>24951</td>\n",
       "    </tr>\n",
       "    <tr>\n",
       "      <th>29683</th>\n",
       "      <td>2001</td>\n",
       "      <td>3</td>\n",
       "      <td>24849</td>\n",
       "    </tr>\n",
       "  </tbody>\n",
       "</table>\n",
       "</div>"
      ],
      "text/plain": [
       "       YEAR  AGEGRP  TOT_POP\n",
       "29642  2000       2    26711\n",
       "29643  2000       3    25023\n",
       "29644  2000       4    24731\n",
       "29682  2001       2    24951\n",
       "29683  2001       3    24849"
      ]
     },
     "execution_count": 74,
     "metadata": {},
     "output_type": "execute_result"
    }
   ],
   "source": [
    "stl_student_aged.head()"
   ]
  },
  {
   "cell_type": "code",
   "execution_count": 75,
   "id": "45744a56",
   "metadata": {},
   "outputs": [],
   "source": [
    "stl_students_by_year = pd.pivot_table(stl_student_aged, values=\"TOT_POP\", index=\"YEAR\", aggfunc=np.sum)"
   ]
  },
  {
   "cell_type": "code",
   "execution_count": 76,
   "id": "b773390d",
   "metadata": {},
   "outputs": [
    {
     "data": {
      "text/html": [
       "<div>\n",
       "<style scoped>\n",
       "    .dataframe tbody tr th:only-of-type {\n",
       "        vertical-align: middle;\n",
       "    }\n",
       "\n",
       "    .dataframe tbody tr th {\n",
       "        vertical-align: top;\n",
       "    }\n",
       "\n",
       "    .dataframe thead th {\n",
       "        text-align: right;\n",
       "    }\n",
       "</style>\n",
       "<table border=\"1\" class=\"dataframe\">\n",
       "  <thead>\n",
       "    <tr style=\"text-align: right;\">\n",
       "      <th></th>\n",
       "      <th>TOT_POP</th>\n",
       "    </tr>\n",
       "    <tr>\n",
       "      <th>YEAR</th>\n",
       "      <th></th>\n",
       "    </tr>\n",
       "  </thead>\n",
       "  <tbody>\n",
       "    <tr>\n",
       "      <th>2000</th>\n",
       "      <td>76465</td>\n",
       "    </tr>\n",
       "    <tr>\n",
       "      <th>2001</th>\n",
       "      <td>73708</td>\n",
       "    </tr>\n",
       "    <tr>\n",
       "      <th>2002</th>\n",
       "      <td>71357</td>\n",
       "    </tr>\n",
       "    <tr>\n",
       "      <th>2003</th>\n",
       "      <td>69678</td>\n",
       "    </tr>\n",
       "    <tr>\n",
       "      <th>2004</th>\n",
       "      <td>67502</td>\n",
       "    </tr>\n",
       "  </tbody>\n",
       "</table>\n",
       "</div>"
      ],
      "text/plain": [
       "      TOT_POP\n",
       "YEAR         \n",
       "2000    76465\n",
       "2001    73708\n",
       "2002    71357\n",
       "2003    69678\n",
       "2004    67502"
      ]
     },
     "execution_count": 76,
     "metadata": {},
     "output_type": "execute_result"
    }
   ],
   "source": [
    "stl_students_by_year.head()"
   ]
  },
  {
   "cell_type": "code",
   "execution_count": 81,
   "id": "d2c1dd17",
   "metadata": {},
   "outputs": [],
   "source": [
    "county_data_2019 = pd.read_csv(\"county_data_10_19.csv\")"
   ]
  },
  {
   "cell_type": "code",
   "execution_count": 85,
   "id": "c20f7fc3",
   "metadata": {},
   "outputs": [
    {
     "data": {
      "text/html": [
       "<div>\n",
       "<style scoped>\n",
       "    .dataframe tbody tr th:only-of-type {\n",
       "        vertical-align: middle;\n",
       "    }\n",
       "\n",
       "    .dataframe tbody tr th {\n",
       "        vertical-align: top;\n",
       "    }\n",
       "\n",
       "    .dataframe thead th {\n",
       "        text-align: right;\n",
       "    }\n",
       "</style>\n",
       "<table border=\"1\" class=\"dataframe\">\n",
       "  <thead>\n",
       "    <tr style=\"text-align: right;\">\n",
       "      <th></th>\n",
       "      <th>SUMLEV</th>\n",
       "      <th>STATE</th>\n",
       "      <th>COUNTY</th>\n",
       "      <th>STNAME</th>\n",
       "      <th>CTYNAME</th>\n",
       "      <th>YEAR</th>\n",
       "      <th>AGEGRP</th>\n",
       "      <th>TOT_POP</th>\n",
       "      <th>TOT_MALE</th>\n",
       "      <th>TOT_FEMALE</th>\n",
       "      <th>...</th>\n",
       "      <th>HWAC_MALE</th>\n",
       "      <th>HWAC_FEMALE</th>\n",
       "      <th>HBAC_MALE</th>\n",
       "      <th>HBAC_FEMALE</th>\n",
       "      <th>HIAC_MALE</th>\n",
       "      <th>HIAC_FEMALE</th>\n",
       "      <th>HAAC_MALE</th>\n",
       "      <th>HAAC_FEMALE</th>\n",
       "      <th>HNAC_MALE</th>\n",
       "      <th>HNAC_FEMALE</th>\n",
       "    </tr>\n",
       "  </thead>\n",
       "  <tbody>\n",
       "    <tr>\n",
       "      <th>0</th>\n",
       "      <td>50</td>\n",
       "      <td>29</td>\n",
       "      <td>1</td>\n",
       "      <td>Missouri</td>\n",
       "      <td>Adair County</td>\n",
       "      <td>1</td>\n",
       "      <td>0</td>\n",
       "      <td>25607</td>\n",
       "      <td>12204</td>\n",
       "      <td>13403</td>\n",
       "      <td>...</td>\n",
       "      <td>242</td>\n",
       "      <td>255</td>\n",
       "      <td>9</td>\n",
       "      <td>17</td>\n",
       "      <td>15</td>\n",
       "      <td>13</td>\n",
       "      <td>4</td>\n",
       "      <td>3</td>\n",
       "      <td>2</td>\n",
       "      <td>5</td>\n",
       "    </tr>\n",
       "    <tr>\n",
       "      <th>1</th>\n",
       "      <td>50</td>\n",
       "      <td>29</td>\n",
       "      <td>1</td>\n",
       "      <td>Missouri</td>\n",
       "      <td>Adair County</td>\n",
       "      <td>1</td>\n",
       "      <td>1</td>\n",
       "      <td>1438</td>\n",
       "      <td>759</td>\n",
       "      <td>679</td>\n",
       "      <td>...</td>\n",
       "      <td>30</td>\n",
       "      <td>18</td>\n",
       "      <td>3</td>\n",
       "      <td>3</td>\n",
       "      <td>2</td>\n",
       "      <td>0</td>\n",
       "      <td>1</td>\n",
       "      <td>2</td>\n",
       "      <td>1</td>\n",
       "      <td>3</td>\n",
       "    </tr>\n",
       "    <tr>\n",
       "      <th>2</th>\n",
       "      <td>50</td>\n",
       "      <td>29</td>\n",
       "      <td>1</td>\n",
       "      <td>Missouri</td>\n",
       "      <td>Adair County</td>\n",
       "      <td>1</td>\n",
       "      <td>2</td>\n",
       "      <td>1338</td>\n",
       "      <td>716</td>\n",
       "      <td>622</td>\n",
       "      <td>...</td>\n",
       "      <td>13</td>\n",
       "      <td>17</td>\n",
       "      <td>1</td>\n",
       "      <td>4</td>\n",
       "      <td>1</td>\n",
       "      <td>1</td>\n",
       "      <td>0</td>\n",
       "      <td>0</td>\n",
       "      <td>0</td>\n",
       "      <td>0</td>\n",
       "    </tr>\n",
       "    <tr>\n",
       "      <th>3</th>\n",
       "      <td>50</td>\n",
       "      <td>29</td>\n",
       "      <td>1</td>\n",
       "      <td>Missouri</td>\n",
       "      <td>Adair County</td>\n",
       "      <td>1</td>\n",
       "      <td>3</td>\n",
       "      <td>1317</td>\n",
       "      <td>670</td>\n",
       "      <td>647</td>\n",
       "      <td>...</td>\n",
       "      <td>9</td>\n",
       "      <td>18</td>\n",
       "      <td>0</td>\n",
       "      <td>1</td>\n",
       "      <td>1</td>\n",
       "      <td>1</td>\n",
       "      <td>0</td>\n",
       "      <td>0</td>\n",
       "      <td>0</td>\n",
       "      <td>0</td>\n",
       "    </tr>\n",
       "    <tr>\n",
       "      <th>4</th>\n",
       "      <td>50</td>\n",
       "      <td>29</td>\n",
       "      <td>1</td>\n",
       "      <td>Missouri</td>\n",
       "      <td>Adair County</td>\n",
       "      <td>1</td>\n",
       "      <td>4</td>\n",
       "      <td>2999</td>\n",
       "      <td>1379</td>\n",
       "      <td>1620</td>\n",
       "      <td>...</td>\n",
       "      <td>40</td>\n",
       "      <td>50</td>\n",
       "      <td>1</td>\n",
       "      <td>5</td>\n",
       "      <td>6</td>\n",
       "      <td>4</td>\n",
       "      <td>1</td>\n",
       "      <td>0</td>\n",
       "      <td>0</td>\n",
       "      <td>1</td>\n",
       "    </tr>\n",
       "  </tbody>\n",
       "</table>\n",
       "<p>5 rows × 80 columns</p>\n",
       "</div>"
      ],
      "text/plain": [
       "   SUMLEV  STATE  COUNTY    STNAME       CTYNAME  YEAR  AGEGRP  TOT_POP  \\\n",
       "0      50     29       1  Missouri  Adair County     1       0    25607   \n",
       "1      50     29       1  Missouri  Adair County     1       1     1438   \n",
       "2      50     29       1  Missouri  Adair County     1       2     1338   \n",
       "3      50     29       1  Missouri  Adair County     1       3     1317   \n",
       "4      50     29       1  Missouri  Adair County     1       4     2999   \n",
       "\n",
       "   TOT_MALE  TOT_FEMALE  ...  HWAC_MALE  HWAC_FEMALE  HBAC_MALE  HBAC_FEMALE  \\\n",
       "0     12204       13403  ...        242          255          9           17   \n",
       "1       759         679  ...         30           18          3            3   \n",
       "2       716         622  ...         13           17          1            4   \n",
       "3       670         647  ...          9           18          0            1   \n",
       "4      1379        1620  ...         40           50          1            5   \n",
       "\n",
       "   HIAC_MALE  HIAC_FEMALE  HAAC_MALE  HAAC_FEMALE  HNAC_MALE  HNAC_FEMALE  \n",
       "0         15           13          4            3          2            5  \n",
       "1          2            0          1            2          1            3  \n",
       "2          1            1          0            0          0            0  \n",
       "3          1            1          0            0          0            0  \n",
       "4          6            4          1            0          0            1  \n",
       "\n",
       "[5 rows x 80 columns]"
      ]
     },
     "execution_count": 85,
     "metadata": {},
     "output_type": "execute_result"
    }
   ],
   "source": [
    "county_data_2019.head()"
   ]
  },
  {
   "cell_type": "code",
   "execution_count": 87,
   "id": "c439ce17",
   "metadata": {},
   "outputs": [],
   "source": [
    "stl_data_2019 = county_data_2019[county_data_2019['CTYNAME'] == \"St. Louis city\"]"
   ]
  },
  {
   "cell_type": "code",
   "execution_count": 88,
   "id": "61b04be2",
   "metadata": {},
   "outputs": [
    {
     "data": {
      "text/plain": [
       "(228, 80)"
      ]
     },
     "execution_count": 88,
     "metadata": {},
     "output_type": "execute_result"
    }
   ],
   "source": [
    "stl_data_2019.shape"
   ]
  },
  {
   "cell_type": "code",
   "execution_count": 89,
   "id": "d11381b9",
   "metadata": {},
   "outputs": [],
   "source": [
    "stl_data_2019_filtered = stl_data_2019[[\"YEAR\", \"AGEGRP\", \"TOT_POP\"]]"
   ]
  },
  {
   "cell_type": "code",
   "execution_count": 90,
   "id": "0b2e772b",
   "metadata": {},
   "outputs": [
    {
     "data": {
      "text/plain": [
       "(228, 3)"
      ]
     },
     "execution_count": 90,
     "metadata": {},
     "output_type": "execute_result"
    }
   ],
   "source": [
    "stl_data_2019_filtered.shape"
   ]
  },
  {
   "cell_type": "code",
   "execution_count": 91,
   "id": "a968a327",
   "metadata": {},
   "outputs": [],
   "source": [
    "stl_data_2019_filtered = stl_data_2019_filtered[stl_data_2019_filtered[\"YEAR\"] > 3]"
   ]
  },
  {
   "cell_type": "code",
   "execution_count": 92,
   "id": "ce27978e",
   "metadata": {},
   "outputs": [
    {
     "data": {
      "text/plain": [
       "(171, 3)"
      ]
     },
     "execution_count": 92,
     "metadata": {},
     "output_type": "execute_result"
    }
   ],
   "source": [
    "stl_data_2019_filtered.shape"
   ]
  },
  {
   "cell_type": "code",
   "execution_count": 93,
   "id": "f7c574d1",
   "metadata": {},
   "outputs": [],
   "source": [
    "stl_data_2019_filtered[\"YEAR\"] = stl_data_2019_filtered[\"YEAR\"] + 2007"
   ]
  },
  {
   "cell_type": "code",
   "execution_count": 94,
   "id": "66e5dcdf",
   "metadata": {},
   "outputs": [
    {
     "data": {
      "text/html": [
       "<div>\n",
       "<style scoped>\n",
       "    .dataframe tbody tr th:only-of-type {\n",
       "        vertical-align: middle;\n",
       "    }\n",
       "\n",
       "    .dataframe tbody tr th {\n",
       "        vertical-align: top;\n",
       "    }\n",
       "\n",
       "    .dataframe thead th {\n",
       "        text-align: right;\n",
       "    }\n",
       "</style>\n",
       "<table border=\"1\" class=\"dataframe\">\n",
       "  <thead>\n",
       "    <tr style=\"text-align: right;\">\n",
       "      <th></th>\n",
       "      <th>YEAR</th>\n",
       "      <th>AGEGRP</th>\n",
       "      <th>TOT_POP</th>\n",
       "    </tr>\n",
       "  </thead>\n",
       "  <tbody>\n",
       "    <tr>\n",
       "      <th>26049</th>\n",
       "      <td>2011</td>\n",
       "      <td>0</td>\n",
       "      <td>319344</td>\n",
       "    </tr>\n",
       "    <tr>\n",
       "      <th>26050</th>\n",
       "      <td>2011</td>\n",
       "      <td>1</td>\n",
       "      <td>21279</td>\n",
       "    </tr>\n",
       "    <tr>\n",
       "      <th>26051</th>\n",
       "      <td>2011</td>\n",
       "      <td>2</td>\n",
       "      <td>17376</td>\n",
       "    </tr>\n",
       "    <tr>\n",
       "      <th>26052</th>\n",
       "      <td>2011</td>\n",
       "      <td>3</td>\n",
       "      <td>16699</td>\n",
       "    </tr>\n",
       "    <tr>\n",
       "      <th>26053</th>\n",
       "      <td>2011</td>\n",
       "      <td>4</td>\n",
       "      <td>20887</td>\n",
       "    </tr>\n",
       "  </tbody>\n",
       "</table>\n",
       "</div>"
      ],
      "text/plain": [
       "       YEAR  AGEGRP  TOT_POP\n",
       "26049  2011       0   319344\n",
       "26050  2011       1    21279\n",
       "26051  2011       2    17376\n",
       "26052  2011       3    16699\n",
       "26053  2011       4    20887"
      ]
     },
     "execution_count": 94,
     "metadata": {},
     "output_type": "execute_result"
    }
   ],
   "source": [
    "stl_data_2019_filtered.head()"
   ]
  },
  {
   "cell_type": "code",
   "execution_count": 95,
   "id": "de493d94",
   "metadata": {},
   "outputs": [],
   "source": [
    "stl_student_aged_2019 = stl_data_2019_filtered.loc[(stl_data_2019_filtered[\"AGEGRP\"] >= 2) & (stl_data_2019_filtered[\"AGEGRP\"] <= 4)]"
   ]
  },
  {
   "cell_type": "code",
   "execution_count": 96,
   "id": "0eb18e12",
   "metadata": {},
   "outputs": [
    {
     "data": {
      "text/html": [
       "<div>\n",
       "<style scoped>\n",
       "    .dataframe tbody tr th:only-of-type {\n",
       "        vertical-align: middle;\n",
       "    }\n",
       "\n",
       "    .dataframe tbody tr th {\n",
       "        vertical-align: top;\n",
       "    }\n",
       "\n",
       "    .dataframe thead th {\n",
       "        text-align: right;\n",
       "    }\n",
       "</style>\n",
       "<table border=\"1\" class=\"dataframe\">\n",
       "  <thead>\n",
       "    <tr style=\"text-align: right;\">\n",
       "      <th></th>\n",
       "      <th>YEAR</th>\n",
       "      <th>AGEGRP</th>\n",
       "      <th>TOT_POP</th>\n",
       "    </tr>\n",
       "  </thead>\n",
       "  <tbody>\n",
       "    <tr>\n",
       "      <th>26051</th>\n",
       "      <td>2011</td>\n",
       "      <td>2</td>\n",
       "      <td>17376</td>\n",
       "    </tr>\n",
       "    <tr>\n",
       "      <th>26052</th>\n",
       "      <td>2011</td>\n",
       "      <td>3</td>\n",
       "      <td>16699</td>\n",
       "    </tr>\n",
       "    <tr>\n",
       "      <th>26053</th>\n",
       "      <td>2011</td>\n",
       "      <td>4</td>\n",
       "      <td>20887</td>\n",
       "    </tr>\n",
       "    <tr>\n",
       "      <th>26070</th>\n",
       "      <td>2012</td>\n",
       "      <td>2</td>\n",
       "      <td>17616</td>\n",
       "    </tr>\n",
       "    <tr>\n",
       "      <th>26071</th>\n",
       "      <td>2012</td>\n",
       "      <td>3</td>\n",
       "      <td>16290</td>\n",
       "    </tr>\n",
       "  </tbody>\n",
       "</table>\n",
       "</div>"
      ],
      "text/plain": [
       "       YEAR  AGEGRP  TOT_POP\n",
       "26051  2011       2    17376\n",
       "26052  2011       3    16699\n",
       "26053  2011       4    20887\n",
       "26070  2012       2    17616\n",
       "26071  2012       3    16290"
      ]
     },
     "execution_count": 96,
     "metadata": {},
     "output_type": "execute_result"
    }
   ],
   "source": [
    "stl_student_aged_2019.head()"
   ]
  },
  {
   "cell_type": "code",
   "execution_count": 97,
   "id": "d2c6a09d",
   "metadata": {},
   "outputs": [],
   "source": [
    "stl_students_by_year_2019 = pd.pivot_table(stl_student_aged_2019, values=\"TOT_POP\", index=\"YEAR\", aggfunc=np.sum)"
   ]
  },
  {
   "cell_type": "code",
   "execution_count": 98,
   "id": "90831430",
   "metadata": {},
   "outputs": [
    {
     "data": {
      "text/html": [
       "<div>\n",
       "<style scoped>\n",
       "    .dataframe tbody tr th:only-of-type {\n",
       "        vertical-align: middle;\n",
       "    }\n",
       "\n",
       "    .dataframe tbody tr th {\n",
       "        vertical-align: top;\n",
       "    }\n",
       "\n",
       "    .dataframe thead th {\n",
       "        text-align: right;\n",
       "    }\n",
       "</style>\n",
       "<table border=\"1\" class=\"dataframe\">\n",
       "  <thead>\n",
       "    <tr style=\"text-align: right;\">\n",
       "      <th></th>\n",
       "      <th>TOT_POP</th>\n",
       "    </tr>\n",
       "    <tr>\n",
       "      <th>YEAR</th>\n",
       "      <th></th>\n",
       "    </tr>\n",
       "  </thead>\n",
       "  <tbody>\n",
       "    <tr>\n",
       "      <th>2011</th>\n",
       "      <td>54962</td>\n",
       "    </tr>\n",
       "    <tr>\n",
       "      <th>2012</th>\n",
       "      <td>53536</td>\n",
       "    </tr>\n",
       "    <tr>\n",
       "      <th>2013</th>\n",
       "      <td>52241</td>\n",
       "    </tr>\n",
       "    <tr>\n",
       "      <th>2014</th>\n",
       "      <td>51164</td>\n",
       "    </tr>\n",
       "    <tr>\n",
       "      <th>2015</th>\n",
       "      <td>50012</td>\n",
       "    </tr>\n",
       "  </tbody>\n",
       "</table>\n",
       "</div>"
      ],
      "text/plain": [
       "      TOT_POP\n",
       "YEAR         \n",
       "2011    54962\n",
       "2012    53536\n",
       "2013    52241\n",
       "2014    51164\n",
       "2015    50012"
      ]
     },
     "execution_count": 98,
     "metadata": {},
     "output_type": "execute_result"
    }
   ],
   "source": [
    "stl_students_by_year_2019.head()"
   ]
  },
  {
   "cell_type": "code",
   "execution_count": 99,
   "id": "1c07306f",
   "metadata": {},
   "outputs": [],
   "source": [
    "stl_students_school_aged_by_year = stl_students_by_year.append(stl_students_by_year_2019)"
   ]
  },
  {
   "cell_type": "code",
   "execution_count": 100,
   "id": "b3b0fc82",
   "metadata": {},
   "outputs": [
    {
     "data": {
      "text/plain": [
       "(20, 1)"
      ]
     },
     "execution_count": 100,
     "metadata": {},
     "output_type": "execute_result"
    }
   ],
   "source": [
    "stl_students_school_aged_by_year.shape"
   ]
  },
  {
   "cell_type": "code",
   "execution_count": null,
   "id": "bccc818d",
   "metadata": {},
   "outputs": [],
   "source": [
    "stl_students_school_aged_by_year.to_csv(\"school_aged_students\")"
   ]
  }
 ],
 "metadata": {
  "kernelspec": {
   "display_name": "Python 3",
   "language": "python",
   "name": "python3"
  },
  "language_info": {
   "codemirror_mode": {
    "name": "ipython",
    "version": 3
   },
   "file_extension": ".py",
   "mimetype": "text/x-python",
   "name": "python",
   "nbconvert_exporter": "python",
   "pygments_lexer": "ipython3",
   "version": "3.9.7"
  }
 },
 "nbformat": 4,
 "nbformat_minor": 5
}
