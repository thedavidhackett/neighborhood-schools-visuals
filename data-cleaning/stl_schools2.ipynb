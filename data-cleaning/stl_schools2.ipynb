{
 "cells": [
  {
   "cell_type": "code",
   "execution_count": 1,
   "id": "6f12487b",
   "metadata": {},
   "outputs": [
    {
     "name": "stdout",
     "output_type": "stream",
     "text": [
      "Requirement already satisfied: numpy in /usr/local/lib/python3.9/site-packages (1.21.1)\n",
      "\u001b[33mWARNING: You are using pip version 21.1.3; however, version 21.2.3 is available.\n",
      "You should consider upgrading via the '/usr/local/Cellar/jupyterlab/3.1.1/libexec/bin/python3.9 -m pip install --upgrade pip' command.\u001b[0m\n",
      "Note: you may need to restart the kernel to use updated packages.\n"
     ]
    }
   ],
   "source": [
    "%pip install numpy"
   ]
  },
  {
   "cell_type": "code",
   "execution_count": 2,
   "id": "dfc2ba6d",
   "metadata": {},
   "outputs": [
    {
     "name": "stdout",
     "output_type": "stream",
     "text": [
      "Requirement already satisfied: pandas in /usr/local/lib/python3.9/site-packages (1.3.1)\n",
      "Requirement already satisfied: numpy>=1.17.3 in /usr/local/lib/python3.9/site-packages (from pandas) (1.21.1)\n",
      "Requirement already satisfied: python-dateutil>=2.7.3 in /usr/local/Cellar/jupyterlab/3.1.1/libexec/lib/python3.9/site-packages (from pandas) (2.8.2)\n",
      "Requirement already satisfied: pytz>=2017.3 in /usr/local/Cellar/jupyterlab/3.1.1/libexec/lib/python3.9/site-packages (from pandas) (2021.1)\n",
      "Requirement already satisfied: six>=1.5 in /usr/local/Cellar/jupyterlab/3.1.1/libexec/lib/python3.9/site-packages (from python-dateutil>=2.7.3->pandas) (1.16.0)\n",
      "\u001b[33mWARNING: You are using pip version 21.1.3; however, version 21.2.3 is available.\n",
      "You should consider upgrading via the '/usr/local/Cellar/jupyterlab/3.1.1/libexec/bin/python3.9 -m pip install --upgrade pip' command.\u001b[0m\n",
      "Note: you may need to restart the kernel to use updated packages.\n"
     ]
    }
   ],
   "source": [
    "%pip install pandas"
   ]
  },
  {
   "cell_type": "code",
   "execution_count": 3,
   "id": "a0a001f4",
   "metadata": {},
   "outputs": [],
   "source": [
    "import numpy as np\n",
    "import pandas as pd"
   ]
  },
  {
   "cell_type": "code",
   "execution_count": 4,
   "id": "c3a96391",
   "metadata": {},
   "outputs": [],
   "source": [
    "stl_schools = pd.read_csv(\"stl_city_schools_cleaned.csv\")"
   ]
  },
  {
   "cell_type": "code",
   "execution_count": 5,
   "id": "238bfb82",
   "metadata": {},
   "outputs": [],
   "source": [
    "import json"
   ]
  },
  {
   "cell_type": "code",
   "execution_count": 6,
   "id": "747e139c",
   "metadata": {},
   "outputs": [],
   "source": [
    "latlong = {}"
   ]
  },
  {
   "cell_type": "code",
   "execution_count": 7,
   "id": "b11ed6c4",
   "metadata": {},
   "outputs": [],
   "source": [
    "with open('latlong.json') as jsonfile:\n",
    "    latlong = json.load(jsonfile)"
   ]
  },
  {
   "cell_type": "code",
   "execution_count": 8,
   "id": "cff25164",
   "metadata": {},
   "outputs": [
    {
     "name": "stdout",
     "output_type": "stream",
     "text": [
      "{'3847 Enright Avenue': {'lat': 38.643933, 'lng': -90.235084}, '1118 South 7th St.': {'lat': 38.606088, 'lng': -90.203405}, '450 Des Peres Ave': {'lat': 38.652746, 'lng': -90.293461}, '5140 Riverview Boulevard': {'lat': 38.706984, 'lng': -90.249366}, '1000 N Grand': {'lat': 39.78373, 'lng': -100.445882}, '5101 Mcree Avenue': {'lat': 38.61952, 'lng': -90.255005}, '2 Gateway Drive ': {'lat': 39.78373, 'lng': -100.445882}, '4915 Donovan Avenue': {'lat': 38.587577, 'lng': -90.304986}, '3836 Natural Bridge Avenue': {'lat': 38.687571, 'lng': -90.273317}, '2030 S VANDEVENTER AVE': {'lat': 38.629994, 'lng': -90.245525}, '4352 Louisiana Avenue': {'lat': 47.482905, 'lng': -92.470632}, '1212 N 22nd St': {'lat': 38.658205, 'lng': -90.205725}, '3125 S Kingshighway': {'lat': 39.78373, 'lng': -100.445882}, '4041 S Broadway': {'lat': 47.481484, 'lng': -92.472063}, '1547 S. Theresa Av': {'lat': 38.621265, 'lng': -90.235361}, '4015 Mcpherson Avenue': {'lat': 38.645, 'lng': -90.253182}, '2156 Russell Boulevard': {'lat': 38.611711, 'lng': -90.22631}, '3955 St Ferdinand Ave': {'lat': 38.657458, 'lng': -90.235396}, '3956 St Ferdinand Ave': {'lat': 38.657458, 'lng': -90.235396}, '2615 N BILLUPS AVE': {'lat': 39.78373, 'lng': -100.445882}, '2516 S 9th St': {'lat': 47.514949, 'lng': -92.531333}, '3230 Hartford St.': {'lat': 38.606209, 'lng': -90.290142}, '918 N Union Boulevard': {'lat': 39.78373, 'lng': -100.445882}, '4248 Cottage Avenue': {'lat': 46.813308, 'lng': -92.08234}, '3405 Bell Avenue': {'lat': 38.639514, 'lng': -90.218526}, '3035 Cass Avenue': {'lat': 38.639706, 'lng': -90.187222}, '3616 Garrison Ave.': {'lat': 39.78373, 'lng': -100.445882}, '3125 S Kingshighway Boulevard': {'lat': 38.62988, 'lng': -90.264948}, '706 N Jefferson Ave.': {'lat': 38.640768, 'lng': -90.212846}, '1901 N. Kingshighway Blvd': {'lat': 38.643481, 'lng': -90.265143}, '1224 Grattan St': {'lat': 38.617847, 'lng': -90.208397}, '1919 S Broadway': {'lat': 47.481484, 'lng': -92.472063}, '1881 Pine St': {'lat': 38.631254, 'lng': -90.206881}, '4300 Goodfellow Blvd Bldg 101': {'lat': 39.78373, 'lng': -100.445882}, '310 North 15 Street': {'lat': 39.78373, 'lng': -100.445882}, '4470 Finney Ave': {'lat': 38.653574, 'lng': -90.250672}, '1731 S Broadway': {'lat': 47.481484, 'lng': -92.472063}, '5049 Fyler Avenue': {'lat': 38.601777, 'lng': -90.29007}, '711 North Grand Avenue': {'lat': 39.78373, 'lng': -100.445882}, '516 Loughborough Avenue': {'lat': 38.556541, 'lng': -90.258828}, '1200 N Jefferson Avenue': {'lat': 38.640768, 'lng': -90.212846}, '5750 Lotus': {'lat': 38.665193, 'lng': -90.256349}, '4265 Athlone Avenue': {'lat': 38.673556, 'lng': -90.229741}, '1927 Cass Ave': {'lat': 38.639706, 'lng': -90.187222}, '5910 Clifton Avenue': {'lat': 38.577823, 'lng': -90.296579}, '1004 N Jefferson Avenue': {'lat': 38.640768, 'lng': -90.212846}, '4257 Clarence Ave': {'lat': 38.671321, 'lng': -90.233312}, '3417 Grace Avenue': {'lat': 38.571016, 'lng': -90.253849}, '2516 S. 9th St.': {'lat': 47.514949, 'lng': -92.531333}, '5511 Wabada Ave': {'lat': 38.66632, 'lng': -90.254832}, '1008 S Spring Ave': {'lat': 38.631373, 'lng': -90.238567}, '3021 Hickey St.': {'lat': 39.78373, 'lng': -100.445882}, '5028 Morganford Road': {'lat': 38.554976, 'lng': -90.287526}, '5140 Riverview Boulevard ': {'lat': 38.706984, 'lng': -90.249366}, '4915 Donovan Ave\\xa0': {'lat': 38.587577, 'lng': -90.304986}, '5130 Oakland Avenue': {'lat': 38.576479, 'lng': -90.381458}, '1033 Whittier St': {'lat': 46.854599, 'lng': -92.063757}, '2615 Billups Avenue': {'lat': 38.658515, 'lng': -90.241393}, '2127 N. 11th St.': {'lat': 38.66176, 'lng': -90.197846}, '3955 St. Ferdinand Avenue': {'lat': 38.657458, 'lng': -90.235396}, '1901 N Kingshighway Boulevard': {'lat': 38.643481, 'lng': -90.265143}, '1106 North Jefferson': {'lat': 39.78373, 'lng': -100.445882}, '3740 Marine Avenue': {'lat': 38.587107, 'lng': -90.220436}, '711 N. Grand': {'lat': 50.936904, 'lng': 6.974779}, '2900 S. Grand Boulevard': {'lat': 38.622289, 'lng': -90.238143}, '620 North Grand Blvd': {'lat': 38.639103, 'lng': -90.230676}, '2315 Miami St.': {'lat': 38.59424, 'lng': -90.265495}, '1311 Tower Grove Avenue': {'lat': 38.630718, 'lng': -90.254832}, '3921 N Newstead': {'lat': 39.78373, 'lng': -100.445882}, '8724 Halls Ferry Road': {'lat': 38.716609, 'lng': -90.235563}, '2840 Samuel Shepard Dr': {'lat': 38.639897, 'lng': -90.230919}, '2128 E Gano Ave': {'lat': 38.672632, 'lng': -90.210407}, '5319 Lansdowne Avenue': {'lat': 38.593398, 'lng': -90.33136}, '2900 Hadley': {'lat': 38.654415, 'lng': -90.195146}, '3325 Bell': {'lat': 46.875806, 'lng': -92.730227}, '1020 N Union Blvd': {'lat': 39.78373, 'lng': -100.445882}, '3820 N 14th St.': {'lat': 38.635304, 'lng': -90.197849}, '3935 Enright Avenue': {'lat': 38.656615, 'lng': -90.299366}, '5935 Horton Pl': {'lat': 38.662458, 'lng': -90.291197}, '3120 St. Louis Avenue': {'lat': 38.653324, 'lng': -90.219097}, '2616 Cora Ave': {'lat': 38.665184, 'lng': -90.246949}, '4908 Cote Brilliante Ave': {'lat': 38.661789, 'lng': -90.25238}, '6747 Clayton': {'lat': 38.642552, 'lng': -90.323726}, '1415 N Garrison Avenue': {'lat': 38.65665, 'lng': -90.217388}, '4242 Grove St.': {'lat': 46.835738, 'lng': -92.069288}, '1530 S Grand Blvd': {'lat': 38.622289, 'lng': -90.238143}, '5415 Page Boulevard': {'lat': 38.658919, 'lng': -90.257013}, '1131 N. Euclid': {'lat': 39.78373, 'lng': -100.445882}, '4025 Sullivan Avenue': {'lat': 38.656393, 'lng': -90.214306}, '1383 Clara Avenue': {'lat': 38.653585, 'lng': -90.282114}, '3709 Nebraska Avenue': {'lat': 38.568293, 'lng': -90.237675}, '2612 Wyoming St': {'lat': 38.59655, 'lng': -90.225163}, '1616 South Grand Blvd': {'lat': 38.622289, 'lng': -90.238143}, '4 Gateway Drive': {'lat': 39.78373, 'lng': -100.445882}, '2931 Arlington': {'lat': 46.81286, 'lng': -92.132118}, '5819 Westminster Pl': {'lat': 38.653026, 'lng': -90.289924}, '5872 Minerva Ave': {'lat': 38.671937, 'lng': -90.288499}, '1220 N 10th St.': {'lat': 38.648658, 'lng': -90.191359}, '3111 Cora Avenue': {'lat': 38.665184, 'lng': -90.246949}, '5831 Pamplin Pl': {'lat': 38.708074, 'lng': -90.253931}, '1616 California': {'lat': 39.78373, 'lng': -100.445882}, '1530 South Grand': {'lat': 39.78373, 'lng': -100.445882}, '1632 Hogan St': {'lat': 38.641931, 'lng': -90.202116}, '1301 Hogan St.': {'lat': 38.641931, 'lng': -90.202116}, '5031 Potomac': {'lat': 38.589088, 'lng': -90.215308}, '5821 Kennerly Avenue': {'lat': 38.675073, 'lng': -90.272039}, '815 Ann Ave': {'lat': 38.606199, 'lng': -90.208019}, '5030 Lexington Avenue': {'lat': 38.665364, 'lng': -90.229666}, '1409 Linton Ave': {'lat': 38.674846, 'lng': -90.212388}, '7417 Vermont Avenue': {'lat': 38.56068, 'lng': -90.251384}, '6020 Pernod Avenue': {'lat': 38.598296, 'lng': -90.308513}, '4047 Juniata St.': {'lat': 46.841357, 'lng': -92.015981}, '5316 Ruskin Ave': {'lat': 38.691955, 'lng': -90.240638}, '4342 Aldine Ave': {'lat': 38.65507, 'lng': -90.239394}, '6031 Southwest Avenue': {'lat': 38.613525, 'lng': -90.301928}, '2745 Meramec St.': {'lat': 38.581017, 'lng': -90.244673}, '2 Gateway Drive': {'lat': 39.78373, 'lng': -100.445882}, '955 Arcade Ave': {'lat': 38.65955, 'lng': -90.279806}, '3641 Missouri Avenue': {'lat': 46.818537, 'lng': -92.094486}, '4221 Shaw Boulevard': {'lat': 38.617127, 'lng': -90.254689}, '4300 Morganford Road': {'lat': 38.554976, 'lng': -90.287526}, '8959 Riverview Boulevard': {'lat': 38.706984, 'lng': -90.249366}, '1224 S 14th St.': {'lat': 38.619835, 'lng': -90.204354}, '1921 Prather Avenue': {'lat': 38.589044, 'lng': -90.30785}, '4611 S. Grand Blvd': {'lat': 38.622289, 'lng': -90.238143}, '4160 N. Kingshighway': {'lat': 39.78373, 'lng': -100.445882}, '5329 Columbia Avenue': {'lat': 38.61098, 'lng': -90.275048}, '3412 Shenandoah Avenue': {'lat': 38.609851, 'lng': -90.243449}, '3450 Wisconsin Ave': {'lat': 38.599776, 'lng': -90.219433}, '3942 Flad Ave.': {'lat': 38.613834, 'lng': -90.262706}, '2050 Allen Avenue': {'lat': 38.608131, 'lng': -90.207143}, '4318 St Louis Ave': {'lat': 38.653339, 'lng': -90.215432}, '647 Tower Grove Avenue': {'lat': 38.630718, 'lng': -90.254832}, '5000 Davison Avenue': {'lat': 38.698322, 'lng': -90.242909}, '6131 Leona St.': {'lat': 38.580234, 'lng': -90.257833}, '5814 Thelka Ave': {'lat': 39.78373, 'lng': -100.445882}, '25 S Compton Ave': {'lat': 38.630636, 'lng': -90.227423}, '1130 N Euclid Avenue': {'lat': 38.687366, 'lng': -90.238043}, '7212 Arsenal Street': {'lat': 38.610433, 'lng': -90.310033}, '725 Bellerive Boulevard': {'lat': 38.56803, 'lng': -90.25564}, '1465 S Grand Blvd': {'lat': 38.621441, 'lng': -90.239279}, '400 S Kingshighway Boulevard': {'lat': 38.62988, 'lng': -90.264948}, '1920 7th Street': {'lat': 46.748801, 'lng': -92.224291}, '4471 Olive Street': {'lat': 46.812861, 'lng': -92.135218}, '2153 Salisbury Street': {'lat': 38.660569, 'lng': -90.201449}, '5279 Fyler Avenue': {'lat': 38.601777, 'lng': -90.29007}, '1509 Washington Ave': {'lat': 38.632851, 'lng': -90.200527}, '5223 North 20th Street': {'lat': 38.673311, 'lng': -90.210997}, '3017 North 13th Street': {'lat': 38.638733, 'lng': -90.194476}, '1110 Victor St.': {'lat': 38.602714, 'lng': -90.210182}, '5421 Thekla Avenue': {'lat': 38.70313, 'lng': -90.253319}, '3112 Meramec': {'lat': 38.647771, 'lng': -90.340024}, '7604 Michigan Ave': {'lat': 46.762002, 'lng': -92.140307}, '1618 Tower Grove Avenue': {'lat': 38.620058, 'lng': -90.255513}, '4011 Papin Street': {'lat': 38.629905, 'lng': -90.251484}, '3033 n. Euclid ave': {'lat': 38.687366, 'lng': -90.238043}, '620 North Grand Boulevard': {'lat': 38.639103, 'lng': -90.230676}, '2647 Ohio Ave': {'lat': 38.60833, 'lng': -90.224684}, '955 Arcade Avenue': {'lat': 38.65955, 'lng': -90.279806}, '6576 Smiley Avenue': {'lat': 38.606757, 'lng': -90.299966}, '3108 N Grand Blvd': {'lat': 38.638787, 'lng': -90.23173}, '2153 Salisbury St': {'lat': 38.660569, 'lng': -90.201449}, '1900 Lafayette Avenue': {'lat': 38.619067, 'lng': -90.258798}, '3716 Morganford Road': {'lat': 38.554976, 'lng': -90.287526}, '2617 Shenandoah Avenue': {'lat': 38.609851, 'lng': -90.243449}, '6651 Gravois Avenue': {'lat': 38.577264, 'lng': -90.274475}, '3630 Ohio Avenue': {'lat': 38.60833, 'lng': -90.224684}, '801 N 11th St.': {'lat': 46.752421, 'lng': -92.224391}}\n"
     ]
    }
   ],
   "source": [
    "print(latlong)"
   ]
  },
  {
   "cell_type": "code",
   "execution_count": 13,
   "id": "074d5f7d",
   "metadata": {},
   "outputs": [],
   "source": [
    "def getLat(addr):\n",
    "    return latlong[addr]['lat']\n",
    "\n",
    "def getLong(addr):\n",
    "    return latlong[addr]['lng']\n",
    "\n",
    "stl_schools['lat'] = stl_schools['SCHADDR1'].apply(getLat)\n",
    "stl_schools['lng'] = stl_schools['SCHADDR1'].apply(getLong)"
   ]
  },
  {
   "cell_type": "code",
   "execution_count": 14,
   "id": "af416023",
   "metadata": {},
   "outputs": [
    {
     "data": {
      "text/html": [
       "<div>\n",
       "<style scoped>\n",
       "    .dataframe tbody tr th:only-of-type {\n",
       "        vertical-align: middle;\n",
       "    }\n",
       "\n",
       "    .dataframe tbody tr th {\n",
       "        vertical-align: top;\n",
       "    }\n",
       "\n",
       "    .dataframe thead th {\n",
       "        text-align: right;\n",
       "    }\n",
       "</style>\n",
       "<table border=\"1\" class=\"dataframe\">\n",
       "  <thead>\n",
       "    <tr style=\"text-align: right;\">\n",
       "      <th></th>\n",
       "      <th>YEAR</th>\n",
       "      <th>COUNTY_DISTRICT_CODE</th>\n",
       "      <th>DISTRICT_NAME</th>\n",
       "      <th>SCHOOL_CODE</th>\n",
       "      <th>SCHOOL_NAME</th>\n",
       "      <th>ENROLLMENT_GRADES_K_12</th>\n",
       "      <th>JANUARY_MEMBERSHIP</th>\n",
       "      <th>LUNCH_COUNT_FREE_REDUCED</th>\n",
       "      <th>LUNCH_COUNT_FREE_REDUCTED_PCT</th>\n",
       "      <th>ENROLLMENT_ASIAN</th>\n",
       "      <th>...</th>\n",
       "      <th>JUNIOR_HIGH_SCHOOL_FLAG</th>\n",
       "      <th>HIGH_SCHOOL_FLAG</th>\n",
       "      <th>AVTS_FLAG</th>\n",
       "      <th>ALTERNATIVE_SCHOOL_FLAG</th>\n",
       "      <th>FULL_CODE</th>\n",
       "      <th>CHARTER</th>\n",
       "      <th>MAGNET</th>\n",
       "      <th>ALTERNATIVE</th>\n",
       "      <th>lat</th>\n",
       "      <th>lng</th>\n",
       "    </tr>\n",
       "  </thead>\n",
       "  <tbody>\n",
       "    <tr>\n",
       "      <th>0</th>\n",
       "      <td>2000</td>\n",
       "      <td>115115</td>\n",
       "      <td>ST. LOUIS CITY</td>\n",
       "      <td>1015</td>\n",
       "      <td>GRISCOM DETENTION CTR.</td>\n",
       "      <td>71</td>\n",
       "      <td>69.0</td>\n",
       "      <td>32</td>\n",
       "      <td>46.4</td>\n",
       "      <td>NaN</td>\n",
       "      <td>...</td>\n",
       "      <td></td>\n",
       "      <td></td>\n",
       "      <td></td>\n",
       "      <td>Y</td>\n",
       "      <td>115-115-1015</td>\n",
       "      <td>False</td>\n",
       "      <td>False</td>\n",
       "      <td>True</td>\n",
       "      <td>38.643933</td>\n",
       "      <td>-90.235084</td>\n",
       "    </tr>\n",
       "    <tr>\n",
       "      <th>1</th>\n",
       "      <td>2001</td>\n",
       "      <td>115115</td>\n",
       "      <td>ST. LOUIS CITY</td>\n",
       "      <td>1015</td>\n",
       "      <td>GRISCOM DETENTION CTR.</td>\n",
       "      <td>86</td>\n",
       "      <td>81.0</td>\n",
       "      <td>43</td>\n",
       "      <td>53.1</td>\n",
       "      <td>NaN</td>\n",
       "      <td>...</td>\n",
       "      <td></td>\n",
       "      <td></td>\n",
       "      <td></td>\n",
       "      <td>Y</td>\n",
       "      <td>115-115-1015</td>\n",
       "      <td>False</td>\n",
       "      <td>False</td>\n",
       "      <td>True</td>\n",
       "      <td>38.643933</td>\n",
       "      <td>-90.235084</td>\n",
       "    </tr>\n",
       "    <tr>\n",
       "      <th>2</th>\n",
       "      <td>2002</td>\n",
       "      <td>115115</td>\n",
       "      <td>ST. LOUIS CITY</td>\n",
       "      <td>1015</td>\n",
       "      <td>GRISCOM DETENTION CTR.</td>\n",
       "      <td>92</td>\n",
       "      <td>82.0</td>\n",
       "      <td>35</td>\n",
       "      <td>42.7</td>\n",
       "      <td>NaN</td>\n",
       "      <td>...</td>\n",
       "      <td></td>\n",
       "      <td></td>\n",
       "      <td></td>\n",
       "      <td>Y</td>\n",
       "      <td>115-115-1015</td>\n",
       "      <td>False</td>\n",
       "      <td>False</td>\n",
       "      <td>True</td>\n",
       "      <td>38.643933</td>\n",
       "      <td>-90.235084</td>\n",
       "    </tr>\n",
       "    <tr>\n",
       "      <th>3</th>\n",
       "      <td>2003</td>\n",
       "      <td>115115</td>\n",
       "      <td>ST. LOUIS CITY</td>\n",
       "      <td>1015</td>\n",
       "      <td>GRISCOM DETENTION CTR.</td>\n",
       "      <td>73</td>\n",
       "      <td>89.0</td>\n",
       "      <td>43</td>\n",
       "      <td>48.3</td>\n",
       "      <td>NaN</td>\n",
       "      <td>...</td>\n",
       "      <td></td>\n",
       "      <td></td>\n",
       "      <td></td>\n",
       "      <td>Y</td>\n",
       "      <td>115-115-1015</td>\n",
       "      <td>False</td>\n",
       "      <td>False</td>\n",
       "      <td>True</td>\n",
       "      <td>38.643933</td>\n",
       "      <td>-90.235084</td>\n",
       "    </tr>\n",
       "    <tr>\n",
       "      <th>4</th>\n",
       "      <td>2004</td>\n",
       "      <td>115115</td>\n",
       "      <td>ST. LOUIS CITY</td>\n",
       "      <td>1015</td>\n",
       "      <td>GRISCOM DETENTION CTR.</td>\n",
       "      <td>98</td>\n",
       "      <td>98.0</td>\n",
       "      <td>45</td>\n",
       "      <td>45.9</td>\n",
       "      <td>NaN</td>\n",
       "      <td>...</td>\n",
       "      <td></td>\n",
       "      <td></td>\n",
       "      <td></td>\n",
       "      <td>Y</td>\n",
       "      <td>115-115-1015</td>\n",
       "      <td>False</td>\n",
       "      <td>False</td>\n",
       "      <td>True</td>\n",
       "      <td>38.643933</td>\n",
       "      <td>-90.235084</td>\n",
       "    </tr>\n",
       "  </tbody>\n",
       "</table>\n",
       "<p>5 rows × 56 columns</p>\n",
       "</div>"
      ],
      "text/plain": [
       "   YEAR  COUNTY_DISTRICT_CODE   DISTRICT_NAME  SCHOOL_CODE  \\\n",
       "0  2000                115115  ST. LOUIS CITY         1015   \n",
       "1  2001                115115  ST. LOUIS CITY         1015   \n",
       "2  2002                115115  ST. LOUIS CITY         1015   \n",
       "3  2003                115115  ST. LOUIS CITY         1015   \n",
       "4  2004                115115  ST. LOUIS CITY         1015   \n",
       "\n",
       "              SCHOOL_NAME  ENROLLMENT_GRADES_K_12  JANUARY_MEMBERSHIP  \\\n",
       "0  GRISCOM DETENTION CTR.                      71                69.0   \n",
       "1  GRISCOM DETENTION CTR.                      86                81.0   \n",
       "2  GRISCOM DETENTION CTR.                      92                82.0   \n",
       "3  GRISCOM DETENTION CTR.                      73                89.0   \n",
       "4  GRISCOM DETENTION CTR.                      98                98.0   \n",
       "\n",
       "  LUNCH_COUNT_FREE_REDUCED LUNCH_COUNT_FREE_REDUCTED_PCT ENROLLMENT_ASIAN  \\\n",
       "0                       32                          46.4              NaN   \n",
       "1                       43                          53.1              NaN   \n",
       "2                       35                          42.7              NaN   \n",
       "3                       43                          48.3              NaN   \n",
       "4                       45                          45.9              NaN   \n",
       "\n",
       "   ... JUNIOR_HIGH_SCHOOL_FLAG HIGH_SCHOOL_FLAG AVTS_FLAG  \\\n",
       "0  ...                                                      \n",
       "1  ...                                                      \n",
       "2  ...                                                      \n",
       "3  ...                                                      \n",
       "4  ...                                                      \n",
       "\n",
       "  ALTERNATIVE_SCHOOL_FLAG     FULL_CODE CHARTER MAGNET ALTERNATIVE        lat  \\\n",
       "0                       Y  115-115-1015   False  False        True  38.643933   \n",
       "1                       Y  115-115-1015   False  False        True  38.643933   \n",
       "2                       Y  115-115-1015   False  False        True  38.643933   \n",
       "3                       Y  115-115-1015   False  False        True  38.643933   \n",
       "4                       Y  115-115-1015   False  False        True  38.643933   \n",
       "\n",
       "         lng  \n",
       "0 -90.235084  \n",
       "1 -90.235084  \n",
       "2 -90.235084  \n",
       "3 -90.235084  \n",
       "4 -90.235084  \n",
       "\n",
       "[5 rows x 56 columns]"
      ]
     },
     "execution_count": 14,
     "metadata": {},
     "output_type": "execute_result"
    }
   ],
   "source": [
    "stl_schools.head()"
   ]
  },
  {
   "cell_type": "code",
   "execution_count": 15,
   "id": "f1e585d1",
   "metadata": {},
   "outputs": [],
   "source": [
    "stl_schools.to_csv(\"stl_schools_with_latlong.csv\")"
   ]
  },
  {
   "cell_type": "code",
   "execution_count": null,
   "id": "4e65b351",
   "metadata": {},
   "outputs": [],
   "source": []
  }
 ],
 "metadata": {
  "kernelspec": {
   "display_name": "Python 3",
   "language": "python",
   "name": "python3"
  },
  "language_info": {
   "codemirror_mode": {
    "name": "ipython",
    "version": 3
   },
   "file_extension": ".py",
   "mimetype": "text/x-python",
   "name": "python",
   "nbconvert_exporter": "python",
   "pygments_lexer": "ipython3",
   "version": "3.9.6"
  }
 },
 "nbformat": 4,
 "nbformat_minor": 5
}
